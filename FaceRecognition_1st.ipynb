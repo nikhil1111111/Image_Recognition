{
 "cells": [
  {
   "cell_type": "code",
   "execution_count": 1,
   "id": "4e26e7e2",
   "metadata": {},
   "outputs": [
    {
     "name": "stdout",
     "output_type": "stream",
     "text": [
      "You are using Python 3.8 or higher, so you don't need to install TensorFlow CPU.\n",
      "Defaulting to user installation because normal site-packages is not writeable\n",
      "Collecting tensorflow-gpu==2.12.0\n",
      "  Using cached tensorflow-gpu-2.12.0.tar.gz (2.6 kB)\n",
      "  Preparing metadata (setup.py) ... \u001b[?25ldone\n",
      "\u001b[?25hRequirement already satisfied: python_version>\"3.7\" in /home/akhilesh/.local/lib/python3.10/site-packages (from tensorflow-gpu==2.12.0) (0.0.2)\n",
      "Building wheels for collected packages: tensorflow-gpu\n",
      "  Building wheel for tensorflow-gpu (setup.py) ... \u001b[?25lerror\n",
      "  \u001b[1;31merror\u001b[0m: \u001b[1msubprocess-exited-with-error\u001b[0m\n",
      "  \n",
      "  \u001b[31m×\u001b[0m \u001b[32mpython setup.py bdist_wheel\u001b[0m did not run successfully.\n",
      "  \u001b[31m│\u001b[0m exit code: \u001b[1;36m1\u001b[0m\n",
      "  \u001b[31m╰─>\u001b[0m \u001b[31m[18 lines of output]\u001b[0m\n",
      "  \u001b[31m   \u001b[0m Traceback (most recent call last):\n",
      "  \u001b[31m   \u001b[0m   File \"<string>\", line 2, in <module>\n",
      "  \u001b[31m   \u001b[0m   File \"<pip-setuptools-caller>\", line 34, in <module>\n",
      "  \u001b[31m   \u001b[0m   File \"/tmp/pip-install-5hpz_z4v/tensorflow-gpu_69bb9f58aa314891940760fe83532374/setup.py\", line 37, in <module>\n",
      "  \u001b[31m   \u001b[0m     raise Exception(TF_REMOVAL_WARNING)\n",
      "  \u001b[31m   \u001b[0m Exception:\n",
      "  \u001b[31m   \u001b[0m \n",
      "  \u001b[31m   \u001b[0m =========================================================\n",
      "  \u001b[31m   \u001b[0m The \"tensorflow-gpu\" package has been removed!\n",
      "  \u001b[31m   \u001b[0m \n",
      "  \u001b[31m   \u001b[0m Please install \"tensorflow\" instead.\n",
      "  \u001b[31m   \u001b[0m \n",
      "  \u001b[31m   \u001b[0m Other than the name, the two packages have been identical\n",
      "  \u001b[31m   \u001b[0m since TensorFlow 2.1, or roughly since Sep 2019. For more\n",
      "  \u001b[31m   \u001b[0m information, see: pypi.org/project/tensorflow-gpu\n",
      "  \u001b[31m   \u001b[0m =========================================================\n",
      "  \u001b[31m   \u001b[0m \n",
      "  \u001b[31m   \u001b[0m \n",
      "  \u001b[31m   \u001b[0m \u001b[31m[end of output]\u001b[0m\n",
      "  \n",
      "  \u001b[1;35mnote\u001b[0m: This error originates from a subprocess, and is likely not a problem with pip.\n",
      "\u001b[31m  ERROR: Failed building wheel for tensorflow-gpu\u001b[0m\u001b[31m\n",
      "\u001b[0m\u001b[?25h  Running setup.py clean for tensorflow-gpu\n",
      "Failed to build tensorflow-gpu\n",
      "\u001b[31mERROR: Could not build wheels for tensorflow-gpu, which is required to install pyproject.toml-based projects\u001b[0m\u001b[31m\n",
      "\u001b[0mDefaulting to user installation because normal site-packages is not writeable\n",
      "Requirement already satisfied: opencv-python in /home/akhilesh/.local/lib/python3.10/site-packages (4.7.0.72)\n",
      "Requirement already satisfied: matplotlib in /home/akhilesh/.local/lib/python3.10/site-packages (3.7.1)\n",
      "Requirement already satisfied: numpy>=1.21.2 in /home/akhilesh/.local/lib/python3.10/site-packages (from opencv-python) (1.23.1)\n",
      "Requirement already satisfied: contourpy>=1.0.1 in /home/akhilesh/.local/lib/python3.10/site-packages (from matplotlib) (1.0.7)\n",
      "Requirement already satisfied: cycler>=0.10 in /home/akhilesh/.local/lib/python3.10/site-packages (from matplotlib) (0.11.0)\n",
      "Requirement already satisfied: fonttools>=4.22.0 in /home/akhilesh/.local/lib/python3.10/site-packages (from matplotlib) (4.39.0)\n",
      "Requirement already satisfied: kiwisolver>=1.0.1 in /home/akhilesh/.local/lib/python3.10/site-packages (from matplotlib) (1.4.4)\n",
      "Requirement already satisfied: packaging>=20.0 in /usr/lib/python3/dist-packages (from matplotlib) (21.3)\n",
      "Requirement already satisfied: pillow>=6.2.0 in /usr/lib/python3/dist-packages (from matplotlib) (9.0.1)\n",
      "Requirement already satisfied: pyparsing>=2.3.1 in /usr/lib/python3/dist-packages (from matplotlib) (2.4.7)\n",
      "Requirement already satisfied: python-dateutil>=2.7 in /home/akhilesh/.local/lib/python3.10/site-packages (from matplotlib) (2.8.2)\n",
      "Requirement already satisfied: six>=1.5 in /usr/lib/python3/dist-packages (from python-dateutil>=2.7->matplotlib) (1.16.0)\n"
     ]
    }
   ],
   "source": [
    "import sys\n",
    "\n",
    "if sys.version_info.minor >= 8:\n",
    "    print(\"You are using Python 3.8 or higher, so you don't need to install TensorFlow CPU.\")\n",
    "else:\n",
    "    !pip install tensorflow==2.12.0\n",
    "\n",
    "if 'tensorflow-gpu' in sys.modules:\n",
    "    print(\"You already have TensorFlow GPU installed.\")\n",
    "else:\n",
    "    !pip install tensorflow-gpu==2.12.0\n",
    "\n",
    "!pip install opencv-python matplotlib\n"
   ]
  },
  {
   "cell_type": "code",
   "execution_count": 2,
   "id": "6daa6447",
   "metadata": {},
   "outputs": [],
   "source": [
    "#import important dependencis \n",
    "import cv2 \n",
    "import os \n",
    "import random\n",
    "import numpy as np\n",
    "import matplotlib.pyplot as plt"
   ]
  },
  {
   "cell_type": "code",
   "execution_count": 3,
   "id": "2674d5c4",
   "metadata": {},
   "outputs": [
    {
     "name": "stdout",
     "output_type": "stream",
     "text": [
      "Defaulting to user installation because normal site-packages is not writeable\n",
      "Collecting tensorflow-gpu\n",
      "  Using cached tensorflow-gpu-2.12.0.tar.gz (2.6 kB)\n",
      "  Preparing metadata (setup.py) ... \u001b[?25ldone\n",
      "\u001b[?25hRequirement already satisfied: python_version>\"3.7\" in /home/akhilesh/.local/lib/python3.10/site-packages (from tensorflow-gpu) (0.0.2)\n",
      "Building wheels for collected packages: tensorflow-gpu\n",
      "  Building wheel for tensorflow-gpu (setup.py) ... \u001b[?25lerror\n",
      "  \u001b[1;31merror\u001b[0m: \u001b[1msubprocess-exited-with-error\u001b[0m\n",
      "  \n",
      "  \u001b[31m×\u001b[0m \u001b[32mpython setup.py bdist_wheel\u001b[0m did not run successfully.\n",
      "  \u001b[31m│\u001b[0m exit code: \u001b[1;36m1\u001b[0m\n",
      "  \u001b[31m╰─>\u001b[0m \u001b[31m[18 lines of output]\u001b[0m\n",
      "  \u001b[31m   \u001b[0m Traceback (most recent call last):\n",
      "  \u001b[31m   \u001b[0m   File \"<string>\", line 2, in <module>\n",
      "  \u001b[31m   \u001b[0m   File \"<pip-setuptools-caller>\", line 34, in <module>\n",
      "  \u001b[31m   \u001b[0m   File \"/tmp/pip-install-5319sleu/tensorflow-gpu_f4f56c4cb2fc46e29e0e6fbc144dc617/setup.py\", line 37, in <module>\n",
      "  \u001b[31m   \u001b[0m     raise Exception(TF_REMOVAL_WARNING)\n",
      "  \u001b[31m   \u001b[0m Exception:\n",
      "  \u001b[31m   \u001b[0m \n",
      "  \u001b[31m   \u001b[0m =========================================================\n",
      "  \u001b[31m   \u001b[0m The \"tensorflow-gpu\" package has been removed!\n",
      "  \u001b[31m   \u001b[0m \n",
      "  \u001b[31m   \u001b[0m Please install \"tensorflow\" instead.\n",
      "  \u001b[31m   \u001b[0m \n",
      "  \u001b[31m   \u001b[0m Other than the name, the two packages have been identical\n",
      "  \u001b[31m   \u001b[0m since TensorFlow 2.1, or roughly since Sep 2019. For more\n",
      "  \u001b[31m   \u001b[0m information, see: pypi.org/project/tensorflow-gpu\n",
      "  \u001b[31m   \u001b[0m =========================================================\n",
      "  \u001b[31m   \u001b[0m \n",
      "  \u001b[31m   \u001b[0m \n",
      "  \u001b[31m   \u001b[0m \u001b[31m[end of output]\u001b[0m\n",
      "  \n",
      "  \u001b[1;35mnote\u001b[0m: This error originates from a subprocess, and is likely not a problem with pip.\n",
      "\u001b[31m  ERROR: Failed building wheel for tensorflow-gpu\u001b[0m\u001b[31m\n",
      "\u001b[0m\u001b[?25h  Running setup.py clean for tensorflow-gpu\n",
      "Failed to build tensorflow-gpu\n",
      "\u001b[31mERROR: Could not build wheels for tensorflow-gpu, which is required to install pyproject.toml-based projects\u001b[0m\u001b[31m\n",
      "\u001b[0m"
     ]
    }
   ],
   "source": [
    "!pip install tensorflow-gpu"
   ]
  },
  {
   "cell_type": "code",
   "execution_count": 4,
   "id": "b9bcd5aa",
   "metadata": {},
   "outputs": [
    {
     "name": "stdout",
     "output_type": "stream",
     "text": [
      "Defaulting to user installation because normal site-packages is not writeable\n",
      "Requirement already satisfied: tensorflow in /home/akhilesh/.local/lib/python3.10/site-packages (2.13.0)\n",
      "Requirement already satisfied: absl-py>=1.0.0 in /home/akhilesh/.local/lib/python3.10/site-packages (from tensorflow) (1.4.0)\n",
      "Requirement already satisfied: astunparse>=1.6.0 in /home/akhilesh/.local/lib/python3.10/site-packages (from tensorflow) (1.6.3)\n",
      "Requirement already satisfied: flatbuffers>=23.1.21 in /home/akhilesh/.local/lib/python3.10/site-packages (from tensorflow) (23.3.3)\n",
      "Requirement already satisfied: gast<=0.4.0,>=0.2.1 in /home/akhilesh/.local/lib/python3.10/site-packages (from tensorflow) (0.4.0)\n",
      "Requirement already satisfied: google-pasta>=0.1.1 in /home/akhilesh/.local/lib/python3.10/site-packages (from tensorflow) (0.2.0)\n",
      "Requirement already satisfied: grpcio<2.0,>=1.24.3 in /home/akhilesh/.local/lib/python3.10/site-packages (from tensorflow) (1.53.0)\n",
      "Requirement already satisfied: h5py>=2.9.0 in /home/akhilesh/.local/lib/python3.10/site-packages (from tensorflow) (3.8.0)\n",
      "Requirement already satisfied: keras<2.14,>=2.13.1 in /home/akhilesh/.local/lib/python3.10/site-packages (from tensorflow) (2.13.1)\n",
      "Requirement already satisfied: libclang>=13.0.0 in /home/akhilesh/.local/lib/python3.10/site-packages (from tensorflow) (16.0.0)\n",
      "Requirement already satisfied: numpy<=1.24.3,>=1.22 in /home/akhilesh/.local/lib/python3.10/site-packages (from tensorflow) (1.23.1)\n",
      "Requirement already satisfied: opt-einsum>=2.3.2 in /home/akhilesh/.local/lib/python3.10/site-packages (from tensorflow) (3.3.0)\n",
      "Requirement already satisfied: packaging in /usr/lib/python3/dist-packages (from tensorflow) (21.3)\n",
      "Requirement already satisfied: protobuf!=4.21.0,!=4.21.1,!=4.21.2,!=4.21.3,!=4.21.4,!=4.21.5,<5.0.0dev,>=3.20.3 in /home/akhilesh/.local/lib/python3.10/site-packages (from tensorflow) (4.23.4)\n",
      "Requirement already satisfied: setuptools in /usr/lib/python3/dist-packages (from tensorflow) (59.6.0)\n",
      "Requirement already satisfied: six>=1.12.0 in /usr/lib/python3/dist-packages (from tensorflow) (1.16.0)\n",
      "Requirement already satisfied: tensorboard<2.14,>=2.13 in /home/akhilesh/.local/lib/python3.10/site-packages (from tensorflow) (2.13.0)\n",
      "Requirement already satisfied: tensorflow-estimator<2.14,>=2.13.0 in /home/akhilesh/.local/lib/python3.10/site-packages (from tensorflow) (2.13.0)\n",
      "Requirement already satisfied: termcolor>=1.1.0 in /home/akhilesh/.local/lib/python3.10/site-packages (from tensorflow) (2.2.0)\n",
      "Requirement already satisfied: typing-extensions<4.6.0,>=3.6.6 in /home/akhilesh/.local/lib/python3.10/site-packages (from tensorflow) (4.5.0)\n",
      "Requirement already satisfied: wrapt>=1.11.0 in /home/akhilesh/.local/lib/python3.10/site-packages (from tensorflow) (1.14.1)\n",
      "Requirement already satisfied: tensorflow-io-gcs-filesystem>=0.23.1 in /home/akhilesh/.local/lib/python3.10/site-packages (from tensorflow) (0.31.0)\n",
      "Requirement already satisfied: wheel<1.0,>=0.23.0 in /usr/lib/python3/dist-packages (from astunparse>=1.6.0->tensorflow) (0.37.1)\n",
      "Requirement already satisfied: google-auth<3,>=1.6.3 in /home/akhilesh/.local/lib/python3.10/site-packages (from tensorboard<2.14,>=2.13->tensorflow) (2.16.3)\n",
      "Requirement already satisfied: google-auth-oauthlib<1.1,>=0.5 in /home/akhilesh/.local/lib/python3.10/site-packages (from tensorboard<2.14,>=2.13->tensorflow) (1.0.0)\n",
      "Requirement already satisfied: markdown>=2.6.8 in /home/akhilesh/.local/lib/python3.10/site-packages (from tensorboard<2.14,>=2.13->tensorflow) (3.4.3)\n",
      "Requirement already satisfied: requests<3,>=2.21.0 in /usr/lib/python3/dist-packages (from tensorboard<2.14,>=2.13->tensorflow) (2.25.1)\n",
      "Requirement already satisfied: tensorboard-data-server<0.8.0,>=0.7.0 in /home/akhilesh/.local/lib/python3.10/site-packages (from tensorboard<2.14,>=2.13->tensorflow) (0.7.1)\n",
      "Requirement already satisfied: werkzeug>=1.0.1 in /home/akhilesh/.local/lib/python3.10/site-packages (from tensorboard<2.14,>=2.13->tensorflow) (2.2.3)\n",
      "Requirement already satisfied: cachetools<6.0,>=2.0.0 in /home/akhilesh/.local/lib/python3.10/site-packages (from google-auth<3,>=1.6.3->tensorboard<2.14,>=2.13->tensorflow) (5.3.0)\n",
      "Requirement already satisfied: pyasn1-modules>=0.2.1 in /home/akhilesh/.local/lib/python3.10/site-packages (from google-auth<3,>=1.6.3->tensorboard<2.14,>=2.13->tensorflow) (0.2.8)\n",
      "Requirement already satisfied: rsa<5,>=3.1.4 in /home/akhilesh/.local/lib/python3.10/site-packages (from google-auth<3,>=1.6.3->tensorboard<2.14,>=2.13->tensorflow) (4.9)\n",
      "Requirement already satisfied: requests-oauthlib>=0.7.0 in /home/akhilesh/.local/lib/python3.10/site-packages (from google-auth-oauthlib<1.1,>=0.5->tensorboard<2.14,>=2.13->tensorflow) (1.3.1)\n",
      "Requirement already satisfied: MarkupSafe>=2.1.1 in /home/akhilesh/.local/lib/python3.10/site-packages (from werkzeug>=1.0.1->tensorboard<2.14,>=2.13->tensorflow) (2.1.2)\n",
      "Requirement already satisfied: pyasn1<0.5.0,>=0.4.6 in /home/akhilesh/.local/lib/python3.10/site-packages (from pyasn1-modules>=0.2.1->google-auth<3,>=1.6.3->tensorboard<2.14,>=2.13->tensorflow) (0.4.8)\n",
      "Requirement already satisfied: oauthlib>=3.0.0 in /usr/lib/python3/dist-packages (from requests-oauthlib>=0.7.0->google-auth-oauthlib<1.1,>=0.5->tensorboard<2.14,>=2.13->tensorflow) (3.2.0)\n"
     ]
    }
   ],
   "source": [
    "!pip install tensorflow"
   ]
  },
  {
   "cell_type": "code",
   "execution_count": 5,
   "id": "7146db07",
   "metadata": {},
   "outputs": [
    {
     "name": "stderr",
     "output_type": "stream",
     "text": [
      "2023-07-14 20:34:04.698175: I tensorflow/core/platform/cpu_feature_guard.cc:182] This TensorFlow binary is optimized to use available CPU instructions in performance-critical operations.\n",
      "To enable the following instructions: AVX2 FMA, in other operations, rebuild TensorFlow with the appropriate compiler flags.\n",
      "2023-07-14 20:34:05.574978: W tensorflow/compiler/tf2tensorrt/utils/py_utils.cc:38] TF-TRT Warning: Could not find TensorRT\n"
     ]
    },
    {
     "name": "stdout",
     "output_type": "stream",
     "text": [
      "WARNING:tensorflow:From /tmp/ipykernel_8527/1778772776.py:1: is_gpu_available (from tensorflow.python.framework.test_util) is deprecated and will be removed in a future version.\n",
      "Instructions for updating:\n",
      "Use `tf.config.list_physical_devices('GPU')` instead.\n",
      "False\n"
     ]
    },
    {
     "name": "stderr",
     "output_type": "stream",
     "text": [
      "2023-07-14 20:34:07.251520: E tensorflow/compiler/xla/stream_executor/cuda/cuda_driver.cc:268] failed call to cuInit: CUDA_ERROR_NO_DEVICE: no CUDA-capable device is detected\n"
     ]
    }
   ],
   "source": [
    "import tensorflow as tf; print(tf.test.is_gpu_available())"
   ]
  },
  {
   "cell_type": "code",
   "execution_count": 6,
   "id": "62aed301",
   "metadata": {},
   "outputs": [
    {
     "name": "stdout",
     "output_type": "stream",
     "text": [
      "True\n"
     ]
    }
   ],
   "source": [
    "import tensorflow as tf\n",
    "\n",
    "def detect_gpu():\n",
    "  \"\"\"Returns True if TensorFlow is able to detect a GPU, False otherwise.\"\"\"\n",
    "\n",
    "  try:\n",
    "    tf.config.list_physical_devices('GPU')\n",
    "    return True\n",
    "  except:\n",
    "    return False\n",
    "\n",
    "if __name__ == '__main__':\n",
    "  print(detect_gpu())"
   ]
  },
  {
   "cell_type": "code",
   "execution_count": 7,
   "id": "4ab4e484",
   "metadata": {},
   "outputs": [],
   "source": [
    "#import important tensorflow dependencis \n",
    "from tensorflow.keras.models import Model\n",
    "from tensorflow.keras.layers import Layer,Input,Conv2D,Dense,Flatten,MaxPooling2D\n",
    "import tensorflow as tf"
   ]
  },
  {
   "cell_type": "code",
   "execution_count": 8,
   "id": "561b5c40",
   "metadata": {},
   "outputs": [],
   "source": [
    "#create a folder structure\n",
    "pos = os.path.join('data','positive')\n",
    "neg = os.path.join('data','negative')\n",
    "anch = os.path.join('data','anchor')"
   ]
  },
  {
   "cell_type": "code",
   "execution_count": 9,
   "id": "8d1ac2ef",
   "metadata": {},
   "outputs": [
    {
     "ename": "FileExistsError",
     "evalue": "[Errno 17] File exists: 'data/positive'",
     "output_type": "error",
     "traceback": [
      "\u001b[0;31m---------------------------------------------------------------------------\u001b[0m",
      "\u001b[0;31mFileExistsError\u001b[0m                           Traceback (most recent call last)",
      "Cell \u001b[0;32mIn[9], line 2\u001b[0m\n\u001b[1;32m      1\u001b[0m \u001b[38;5;66;03m# #make the directory\u001b[39;00m\n\u001b[0;32m----> 2\u001b[0m \u001b[43mos\u001b[49m\u001b[38;5;241;43m.\u001b[39;49m\u001b[43mmakedirs\u001b[49m\u001b[43m(\u001b[49m\u001b[43mpos\u001b[49m\u001b[43m)\u001b[49m\n\u001b[1;32m      3\u001b[0m os\u001b[38;5;241m.\u001b[39mmakedirs(neg)\n\u001b[1;32m      4\u001b[0m os\u001b[38;5;241m.\u001b[39mmakedirs(anch)\n",
      "File \u001b[0;32m/usr/lib/python3.10/os.py:225\u001b[0m, in \u001b[0;36mmakedirs\u001b[0;34m(name, mode, exist_ok)\u001b[0m\n\u001b[1;32m    223\u001b[0m         \u001b[38;5;28;01mreturn\u001b[39;00m\n\u001b[1;32m    224\u001b[0m \u001b[38;5;28;01mtry\u001b[39;00m:\n\u001b[0;32m--> 225\u001b[0m     \u001b[43mmkdir\u001b[49m\u001b[43m(\u001b[49m\u001b[43mname\u001b[49m\u001b[43m,\u001b[49m\u001b[43m \u001b[49m\u001b[43mmode\u001b[49m\u001b[43m)\u001b[49m\n\u001b[1;32m    226\u001b[0m \u001b[38;5;28;01mexcept\u001b[39;00m \u001b[38;5;167;01mOSError\u001b[39;00m:\n\u001b[1;32m    227\u001b[0m     \u001b[38;5;66;03m# Cannot rely on checking for EEXIST, since the operating system\u001b[39;00m\n\u001b[1;32m    228\u001b[0m     \u001b[38;5;66;03m# could give priority to other errors like EACCES or EROFS\u001b[39;00m\n\u001b[1;32m    229\u001b[0m     \u001b[38;5;28;01mif\u001b[39;00m \u001b[38;5;129;01mnot\u001b[39;00m exist_ok \u001b[38;5;129;01mor\u001b[39;00m \u001b[38;5;129;01mnot\u001b[39;00m path\u001b[38;5;241m.\u001b[39misdir(name):\n",
      "\u001b[0;31mFileExistsError\u001b[0m: [Errno 17] File exists: 'data/positive'"
     ]
    }
   ],
   "source": [
    "# #make the directory\n",
    "os.makedirs(pos)\n",
    "os.makedirs(neg)\n",
    "os.makedirs(anch)"
   ]
  },
  {
   "cell_type": "code",
   "execution_count": 10,
   "id": "ecf0e333",
   "metadata": {},
   "outputs": [],
   "source": [
    "# Uncompress Tar GZ Labelled Faces in the Wild Dataset\n",
    "!tar -xf lfw.tgz"
   ]
  },
  {
   "cell_type": "code",
   "execution_count": 11,
   "id": "a10d1b44",
   "metadata": {},
   "outputs": [],
   "source": [
    "# Move LFW Images to the following repository data/negative\n",
    "for directory in os.listdir('lfw'):\n",
    "    for file in os.listdir(os.path.join('lfw',directory)):\n",
    "        ex_path = os.path.join('lfw',directory,file)\n",
    "        new_path= os.path.join(neg,file)\n",
    "        os.replace(ex_path,new_path)\n",
    "        "
   ]
  },
  {
   "cell_type": "markdown",
   "id": "b65e6347",
   "metadata": {},
   "source": [
    "# **collect positive and anchor classes**"
   ]
  },
  {
   "cell_type": "code",
   "execution_count": 12,
   "id": "296a12ff",
   "metadata": {},
   "outputs": [],
   "source": [
    "# Import uuid library to generate unique image names\n",
    "import uuid"
   ]
  },
  {
   "cell_type": "code",
   "execution_count": 13,
   "id": "f6685920",
   "metadata": {},
   "outputs": [
    {
     "data": {
      "text/plain": [
       "'data/anchor/bf9541dc-2257-11ee-85ef-617b6042c71f.jpg'"
      ]
     },
     "execution_count": 13,
     "metadata": {},
     "output_type": "execute_result"
    }
   ],
   "source": [
    "os.path.join(anch,'{}.jpg'.format(uuid.uuid1()))"
   ]
  },
  {
   "cell_type": "code",
   "execution_count": 14,
   "id": "44ea8bc2",
   "metadata": {},
   "outputs": [],
   "source": [
    "# Establish a connection to the webcam\n",
    "cap = cv2.VideoCapture(0)\n",
    "\n",
    "while cap.isOpened():\n",
    "    ret, frame = cap.read()\n",
    "    \n",
    "    # Cut down frame to 250x250px\n",
    "    frame = frame[120:120+250, 200:200+250, :]\n",
    "    \n",
    "    # Collect anchors\n",
    "    if cv2.waitKey(1) & 0xFF == ord('a'):\n",
    "        # Create the unique file path\n",
    "        imgname = os.path.join(anch, '{}.jpg'.format(uuid.uuid1()))\n",
    "        # Write out anchor image\n",
    "        cv2.imwrite(imgname, frame)\n",
    "    \n",
    "    # Collect positives\n",
    "    if cv2.waitKey(1) & 0xFF == ord('p'):\n",
    "        # Create the unique file path\n",
    "        imgname = os.path.join(pos, '{}.jpg'.format(uuid.uuid1()))\n",
    "        # Write out positive image\n",
    "        cv2.imwrite(imgname, frame)\n",
    "    \n",
    "    # Show image back to screen\n",
    "    cv2.imshow('Image Collection', frame)\n",
    "    \n",
    "    # Breaking gracefully\n",
    "    if cv2.waitKey(1) & 0xFF == ord('q'):\n",
    "        break\n",
    "\n",
    "# Release the webcam\n",
    "cap.release()\n",
    "\n",
    "# Close the image show frame\n",
    "cv2.destroyAllWindows()"
   ]
  },
  {
   "cell_type": "code",
   "execution_count": 15,
   "id": "a53225fe",
   "metadata": {},
   "outputs": [
    {
     "data": {
      "text/plain": [
       "<matplotlib.image.AxesImage at 0x7fa941cf61a0>"
      ]
     },
     "execution_count": 15,
     "metadata": {},
     "output_type": "execute_result"
    },
    {
     "data": {
      "image/png": "[encoded data removed]",
      "text/plain": [
       "<Figure size 640x480 with 1 Axes>"
      ]
     },
     "metadata": {},
     "output_type": "display_data"
    }
   ],
   "source": [
    "plt.imshow(frame[120:120+250,200:200+250, :])"
   ]
  },
  {
   "cell_type": "markdown",
   "id": "51d83651",
   "metadata": {},
   "source": [
    "# NEW - Data Augmentation"
   ]
  },
  {
   "cell_type": "code",
   "execution_count": 16,
   "id": "082acabb",
   "metadata": {},
   "outputs": [],
   "source": [
    "def data_aug(img):\n",
    "    data =[]\n",
    "    for i in range(9):\n",
    "        img= tf.image.stateless_random_brightness(img,max_delta =0.02 ,seed =(1,2))\n",
    "        img= tf.image.stateless_random_contrast(img,lower =0.6,upper =1,seed =(1,3))\n",
    "        #img = tf.image.stateless_random_crop(img,size=(20,20,3), seed =(1,2))\n",
    "        img= tf.image.stateless_random_flip_left_right(img,seed =(np.random.randint(100),np.random.randint(100)))\n",
    "        img = tf.image.stateless_random_jpeg_quality(img, min_jpeg_quality=90, max_jpeg_quality=100, seed=(np.random.randint(100),np.random.randint(100)))\n",
    "        img = tf.image.stateless_random_saturation(img,lower =0.09,upper=1,seed=(np.random.randint(100),np.random.randint(100)))\n",
    "        \n",
    "        data.append(img)\n",
    "    return data"
   ]
  },
  {
   "cell_type": "code",
   "execution_count": 17,
   "id": "f64ad346",
   "metadata": {},
   "outputs": [],
   "source": [
    "import os \n",
    "import uuid"
   ]
  },
  {
   "cell_type": "code",
   "execution_count": 19,
   "id": "3684a1f0",
   "metadata": {},
   "outputs": [
    {
     "name": "stdout",
     "output_type": "stream",
     "text": [
      "2.13.0\n"
     ]
    }
   ],
   "source": [
    "import tensorflow as tf\n",
    "print(tf.__version__)"
   ]
  },
  {
   "cell_type": "code",
   "execution_count": 21,
   "id": "e1463ce8",
   "metadata": {},
   "outputs": [],
   "source": [
    "import tensorflow as tf"
   ]
  },
  {
   "cell_type": "code",
   "execution_count": 23,
   "id": "d20f8998",
   "metadata": {},
   "outputs": [],
   "source": [
    "img_path = os.path.join(anch,'4dc35c83-21fd-11ee-88e2-895a91a8a222.jpg')\n",
    "img =cv2.imread(img_path)\n",
    "augmented_images = data_aug(img)\n",
    "\n",
    "for image in augmented_images:\n",
    "    cv2.imwrite(os.path.join(anch,'{}.jpg'.format(uuid.uuid1())),image.numpy())"
   ]
  },
  {
   "cell_type": "code",
   "execution_count": 24,
   "id": "44e69b36",
   "metadata": {},
   "outputs": [],
   "source": [
    "for file_name in os.listdir(os.path.join(pos)):\n",
    "    img_path =os.path.join(pos,file_name)\n",
    "    img=cv2.imread(img_path)\n",
    "    augmented_images = data_aug(img)\n",
    "    \n",
    "    for images in augmented_images:\n",
    "        cv2.imwrite(os.path.join(pos,'{}.jpg'.format(uuid.uuid1())),images.numpy())\n",
    "        "
   ]
  },
  {
   "cell_type": "markdown",
   "id": "5118e6eb",
   "metadata": {},
   "source": [
    "# Load and Preprocess Images"
   ]
  },
  {
   "cell_type": "markdown",
   "id": "c881da45",
   "metadata": {},
   "source": [
    "#  Get images Directories"
   ]
  },
  {
   "cell_type": "code",
   "execution_count": 73,
   "id": "f0b59f87",
   "metadata": {},
   "outputs": [],
   "source": [
    "positive = tf.data.Dataset.list_files(os.path.join(pos, '*.jpg')).take(300)\n",
    "negative = tf.data.Dataset.list_files(os.path.join(neg, '*.jpg')).take(300)\n",
    "anchor = tf.data.Dataset.list_files(os.path.join(anch, '*.jpg')).take(300)"
   ]
  },
  {
   "cell_type": "code",
   "execution_count": 74,
   "id": "39f0538b",
   "metadata": {},
   "outputs": [],
   "source": [
    "dir_test = anchor.as_numpy_iterator()"
   ]
  },
  {
   "cell_type": "code",
   "execution_count": 75,
   "id": "2ca616dd",
   "metadata": {},
   "outputs": [
    {
     "name": "stdout",
     "output_type": "stream",
     "text": [
      "b'data/anchor/5fa513ad-21fd-11ee-88e2-895a91a8a222.jpg'\n"
     ]
    }
   ],
   "source": [
    "print(dir_test.next())"
   ]
  },
  {
   "cell_type": "code",
   "execution_count": 76,
   "id": "6c1c7500",
   "metadata": {},
   "outputs": [
    {
     "data": {
      "text/plain": [
       "'data/anchor\\\\*.jpg'"
      ]
     },
     "execution_count": 76,
     "metadata": {},
     "output_type": "execute_result"
    }
   ],
   "source": [
    "anch+'\\*.jpg'"
   ]
  },
  {
   "cell_type": "markdown",
   "id": "03478198",
   "metadata": {},
   "source": [
    "## preprocessing -Scale and Resize"
   ]
  },
  {
   "cell_type": "code",
   "execution_count": 77,
   "id": "0b9a73fc",
   "metadata": {},
   "outputs": [],
   "source": [
    "def preprocess(file_path):\n",
    "    byte_img =tf.io.read_file(file_path)\n",
    "    img = tf.io.decode_jpeg(byte_img)\n",
    "    img = tf.image.resize(img,(100,100))\n",
    "    img = img/255.0\n",
    "    return img"
   ]
  },
  {
   "cell_type": "code",
   "execution_count": 78,
   "id": "5510dad1",
   "metadata": {},
   "outputs": [],
   "source": [
    "img = preprocess('data/anchor/4dc35c83-21fd-11ee-88e2-895a91a8a222.jpg')"
   ]
  },
  {
   "cell_type": "code",
   "execution_count": 79,
   "id": "2cffdc47",
   "metadata": {},
   "outputs": [
    {
     "data": {
      "text/plain": [
       "0.8752451"
      ]
     },
     "execution_count": 79,
     "metadata": {},
     "output_type": "execute_result"
    }
   ],
   "source": [
    "img.numpy().max()"
   ]
  },
  {
   "cell_type": "code",
   "execution_count": 80,
   "id": "75830d3b",
   "metadata": {},
   "outputs": [],
   "source": [
    "# dataset.map(preprocess)"
   ]
  },
  {
   "cell_type": "markdown",
   "id": "d7a40dc5",
   "metadata": {},
   "source": [
    "# create labelled dataset"
   ]
  },
  {
   "cell_type": "code",
   "execution_count": 82,
   "id": "8c0b00c9",
   "metadata": {},
   "outputs": [],
   "source": [
    "positives = tf.data.Dataset.zip((anchor, positive, tf.data.Dataset.from_tensor_slices(tf.ones(len(anchor)))))\n",
    "negatives = tf.data.Dataset.zip((anchor, negative, tf.data.Dataset.from_tensor_slices(tf.zeros(len(anchor)))))\n",
    "\n",
    "data = positives.concatenate(negatives)"
   ]
  },
  {
   "cell_type": "code",
   "execution_count": 83,
   "id": "dac9a794",
   "metadata": {},
   "outputs": [],
   "source": [
    "samples = data.as_numpy_iterator()"
   ]
  },
  {
   "cell_type": "code",
   "execution_count": 84,
   "id": "bbd06943",
   "metadata": {},
   "outputs": [],
   "source": [
    "example =samples.next()"
   ]
  },
  {
   "cell_type": "code",
   "execution_count": 85,
   "id": "345d02e4",
   "metadata": {},
   "outputs": [
    {
     "data": {
      "text/plain": [
       "(b'data/anchor/4c9387e3-21fd-11ee-88e2-895a91a8a222.jpg',\n",
       " b'data/positive/8ba5289b-2258-11ee-85ef-617b6042c71f.jpg',\n",
       " 1.0)"
      ]
     },
     "execution_count": 85,
     "metadata": {},
     "output_type": "execute_result"
    }
   ],
   "source": [
    "example"
   ]
  },
  {
   "cell_type": "markdown",
   "id": "2e343bab",
   "metadata": {},
   "source": [
    "# Build Train and Testing partition"
   ]
  },
  {
   "cell_type": "code",
   "execution_count": 86,
   "id": "d33542e9",
   "metadata": {},
   "outputs": [],
   "source": [
    "def preprocess_twin(input_img,validation_img,label):\n",
    "    return (preprocess(input_img)),preprocess(validation_img),label"
   ]
  },
  {
   "cell_type": "code",
   "execution_count": 87,
   "id": "e208a6a1",
   "metadata": {},
   "outputs": [],
   "source": [
    "res = preprocess_twin(*example)"
   ]
  },
  {
   "cell_type": "code",
   "execution_count": 88,
   "id": "d4f617df",
   "metadata": {},
   "outputs": [
    {
     "data": {
      "text/plain": [
       "<matplotlib.image.AxesImage at 0x7fa9206b9cf0>"
      ]
     },
     "execution_count": 88,
     "metadata": {},
     "output_type": "execute_result"
    },
    {
     "data": {
      "image/png": "[encoded data removed]",
      "text/plain": [
       "<Figure size 640x480 with 1 Axes>"
      ]
     },
     "metadata": {},
     "output_type": "display_data"
    }
   ],
   "source": [
    "plt.imshow(res[0])"
   ]
  },
  {
   "cell_type": "code",
   "execution_count": 89,
   "id": "d0ed2099",
   "metadata": {},
   "outputs": [
    {
     "data": {
      "text/plain": [
       "1.0"
      ]
     },
     "execution_count": 89,
     "metadata": {},
     "output_type": "execute_result"
    }
   ],
   "source": [
    "res[2]"
   ]
  },
  {
   "cell_type": "code",
   "execution_count": 90,
   "id": "60f71bb7",
   "metadata": {},
   "outputs": [],
   "source": [
    "#build dataloader pipline\n",
    "\n",
    "data = data.map(preprocess_twin)\n",
    "data = data.cache()\n",
    "data = data.shuffle(buffer_size=10000)"
   ]
  },
  {
   "cell_type": "code",
   "execution_count": 91,
   "id": "7cb0450c",
   "metadata": {},
   "outputs": [],
   "source": [
    "#training partition \n",
    "train_data = data.take(round(len(data)*.7))\n",
    "train_data = train_data.batch(16)\n",
    "train_data = train_data.prefetch(8)"
   ]
  },
  {
   "cell_type": "code",
   "execution_count": 92,
   "id": "ebba2202",
   "metadata": {},
   "outputs": [],
   "source": [
    "#testing partition\n",
    "test_data = data.skip(round(len(data)*.7))\n",
    "test_data = test_data.take(round(len(data)*.3))\n",
    "test_data =test_data.batch(16)\n",
    "test_data = test_data.prefetch(8)"
   ]
  },
  {
   "cell_type": "markdown",
   "id": "d6a4225e",
   "metadata": {},
   "source": [
    "# Model Engineering"
   ]
  },
  {
   "cell_type": "markdown",
   "id": "4d6b2dcf",
   "metadata": {},
   "source": [
    "## Build Embedding layers"
   ]
  },
  {
   "cell_type": "code",
   "execution_count": 93,
   "id": "5b9006db",
   "metadata": {},
   "outputs": [],
   "source": [
    "inp = Input(shape=(100,100,3),name ='input_image')"
   ]
  },
  {
   "cell_type": "code",
   "execution_count": 94,
   "id": "163278b2",
   "metadata": {},
   "outputs": [],
   "source": [
    "c1 =Conv2D(64,(10,10), activation ='relu') (inp)"
   ]
  },
  {
   "cell_type": "code",
   "execution_count": 95,
   "id": "634ac235",
   "metadata": {},
   "outputs": [],
   "source": [
    "m1 =MaxPooling2D(64,(2,2), padding='same') (c1)"
   ]
  },
  {
   "cell_type": "code",
   "execution_count": 96,
   "id": "a1aab42c",
   "metadata": {},
   "outputs": [],
   "source": [
    "c2 = Conv2D(128,(7,7),padding ='same')(m1)\n",
    "m2 = MaxPooling2D(64,(2,2),padding ='same')(c2)"
   ]
  },
  {
   "cell_type": "code",
   "execution_count": 97,
   "id": "5483b816",
   "metadata": {},
   "outputs": [],
   "source": [
    "c3 = Conv2D(128,(4,4),padding ='same')(m2)\n",
    "m3 = MaxPooling2D(64,(2,2),padding ='same')(c3)"
   ]
  },
  {
   "cell_type": "code",
   "execution_count": 98,
   "id": "e47a0225",
   "metadata": {},
   "outputs": [],
   "source": [
    "c4 = Conv2D(256,(4,4),padding ='same')(m3)\n",
    "f1 = Flatten()(c4)\n",
    "d1 =Dense(4096,activation='sigmoid')(f1)"
   ]
  },
  {
   "cell_type": "code",
   "execution_count": 99,
   "id": "b7841a80",
   "metadata": {},
   "outputs": [],
   "source": [
    "mod = Model(inputs =[inp],outputs =[d1],name ='embedding')"
   ]
  },
  {
   "cell_type": "code",
   "execution_count": 100,
   "id": "06e5c7a9",
   "metadata": {},
   "outputs": [
    {
     "name": "stdout",
     "output_type": "stream",
     "text": [
      "Model: \"embedding\"\n",
      "_________________________________________________________________\n",
      " Layer (type)                Output Shape              Param #   \n",
      "=================================================================\n",
      " input_image (InputLayer)    [(None, 100, 100, 3)]     0         \n",
      "                                                                 \n",
      " conv2d_8 (Conv2D)           (None, 91, 91, 64)        19264     \n",
      "                                                                 \n",
      " max_pooling2d_6 (MaxPoolin  (None, 46, 46, 64)        0         \n",
      " g2D)                                                            \n",
      "                                                                 \n",
      " conv2d_9 (Conv2D)           (None, 46, 46, 128)       401536    \n",
      "                                                                 \n",
      " max_pooling2d_7 (MaxPoolin  (None, 23, 23, 128)       0         \n",
      " g2D)                                                            \n",
      "                                                                 \n",
      " conv2d_10 (Conv2D)          (None, 23, 23, 128)       262272    \n",
      "                                                                 \n",
      " max_pooling2d_8 (MaxPoolin  (None, 12, 12, 128)       0         \n",
      " g2D)                                                            \n",
      "                                                                 \n",
      " conv2d_11 (Conv2D)          (None, 12, 12, 256)       524544    \n",
      "                                                                 \n",
      " flatten_2 (Flatten)         (None, 36864)             0         \n",
      "                                                                 \n",
      " dense_3 (Dense)             (None, 4096)              150999040 \n",
      "                                                                 \n",
      "=================================================================\n",
      "Total params: 152206656 (580.62 MB)\n",
      "Trainable params: 152206656 (580.62 MB)\n",
      "Non-trainable params: 0 (0.00 Byte)\n",
      "_________________________________________________________________\n"
     ]
    }
   ],
   "source": [
    "mod.summary()"
   ]
  },
  {
   "cell_type": "markdown",
   "id": "57540615",
   "metadata": {},
   "source": []
  },
  {
   "cell_type": "code",
   "execution_count": 101,
   "id": "7766ff66",
   "metadata": {},
   "outputs": [],
   "source": [
    "def make_embedding():\n",
    "    inp = Input(shape =(100,100,3),name ='input_image')\n",
    "    \n",
    "    #first block\n",
    "    c1 =Conv2D(64,(10,10), activation ='relu')(inp)\n",
    "    m1 =MaxPooling2D(64,(2,2),padding ='same')(c1)\n",
    "    \n",
    "    #second block\n",
    "    c2 = Conv2D(128,(7,7),activation ='relu') (m1)\n",
    "    m2 =MaxPooling2D(64,(2,2),padding ='same') (c2)\n",
    "    \n",
    "    #third block\n",
    "    c3 = Conv2D(128,(4,4), activation ='relu') (m2)\n",
    "    m3 =MaxPooling2D(64,(2,2),padding ='same') (c3)\n",
    "    \n",
    "    #final block\n",
    "    c4 = Conv2D(256,(4,4), activation ='relu') (m3)\n",
    "    f1 = Flatten() (c4)\n",
    "    d1= Dense(4096,activation ='sigmoid')(f1) \n",
    "    \n",
    "    return Model(inputs =[inp],outputs =[d1], name ='embedding')"
   ]
  },
  {
   "cell_type": "code",
   "execution_count": 102,
   "id": "e33c53bb",
   "metadata": {},
   "outputs": [],
   "source": [
    "embedding = make_embedding()"
   ]
  },
  {
   "cell_type": "code",
   "execution_count": 103,
   "id": "04494c88",
   "metadata": {},
   "outputs": [
    {
     "name": "stdout",
     "output_type": "stream",
     "text": [
      "Model: \"embedding\"\n",
      "_________________________________________________________________\n",
      " Layer (type)                Output Shape              Param #   \n",
      "=================================================================\n",
      " input_image (InputLayer)    [(None, 100, 100, 3)]     0         \n",
      "                                                                 \n",
      " conv2d_12 (Conv2D)          (None, 91, 91, 64)        19264     \n",
      "                                                                 \n",
      " max_pooling2d_9 (MaxPoolin  (None, 46, 46, 64)        0         \n",
      " g2D)                                                            \n",
      "                                                                 \n",
      " conv2d_13 (Conv2D)          (None, 40, 40, 128)       401536    \n",
      "                                                                 \n",
      " max_pooling2d_10 (MaxPooli  (None, 20, 20, 128)       0         \n",
      " ng2D)                                                           \n",
      "                                                                 \n",
      " conv2d_14 (Conv2D)          (None, 17, 17, 128)       262272    \n",
      "                                                                 \n",
      " max_pooling2d_11 (MaxPooli  (None, 9, 9, 128)         0         \n",
      " ng2D)                                                           \n",
      "                                                                 \n",
      " conv2d_15 (Conv2D)          (None, 6, 6, 256)         524544    \n",
      "                                                                 \n",
      " flatten_3 (Flatten)         (None, 9216)              0         \n",
      "                                                                 \n",
      " dense_4 (Dense)             (None, 4096)              37752832  \n",
      "                                                                 \n",
      "=================================================================\n",
      "Total params: 38960448 (148.62 MB)\n",
      "Trainable params: 38960448 (148.62 MB)\n",
      "Non-trainable params: 0 (0.00 Byte)\n",
      "_________________________________________________________________\n"
     ]
    }
   ],
   "source": [
    "embedding.summary()"
   ]
  },
  {
   "cell_type": "markdown",
   "id": "66e88b56",
   "metadata": {},
   "source": [
    "# Build Distance Layer"
   ]
  },
  {
   "cell_type": "code",
   "execution_count": 104,
   "id": "d0a593ef",
   "metadata": {},
   "outputs": [],
   "source": [
    "# Siamese L1 Distance class\n",
    "class L1Dist(Layer):\n",
    "    \n",
    "    # Init method - inheritance\n",
    "    def __init__(self, **kwargs):\n",
    "        super().__init__()\n",
    "       \n",
    "    # Magic happens here - similarity calculation\n",
    "    def call(self, input_embedding, validation_embedding):\n",
    "        return tf.math.abs(input_embedding - validation_embedding)\n",
    "    "
   ]
  },
  {
   "cell_type": "code",
   "execution_count": 105,
   "id": "8c6c0074",
   "metadata": {},
   "outputs": [],
   "source": [
    "l1 = L1Dist()"
   ]
  },
  {
   "cell_type": "markdown",
   "id": "11c69c99",
   "metadata": {},
   "source": [
    "# Make siamese Model "
   ]
  },
  {
   "cell_type": "code",
   "execution_count": 107,
   "id": "a99164be",
   "metadata": {},
   "outputs": [],
   "source": [
    "input_image = Input(name ='input_img', shape =(100,100,3))\n",
    "validation_image = Input(name ='validation_img' ,shape =(100,100,3))"
   ]
  },
  {
   "cell_type": "code",
   "execution_count": 108,
   "id": "41140e01",
   "metadata": {},
   "outputs": [],
   "source": [
    "inp_embedding = embedding(input_image)\n",
    "val_embedding = embedding(validation_image)"
   ]
  },
  {
   "cell_type": "code",
   "execution_count": 109,
   "id": "e80cddcd",
   "metadata": {},
   "outputs": [],
   "source": [
    "siamese_layer = L1Dist()"
   ]
  },
  {
   "cell_type": "code",
   "execution_count": 110,
   "id": "8a0307dc",
   "metadata": {},
   "outputs": [],
   "source": [
    "distances = siamese_layer(inp_embedding, val_embedding)"
   ]
  },
  {
   "cell_type": "code",
   "execution_count": 111,
   "id": "eea02ac1",
   "metadata": {},
   "outputs": [],
   "source": [
    "classifier =Dense(1,activation ='sigmoid')(distances)"
   ]
  },
  {
   "cell_type": "code",
   "execution_count": 112,
   "id": "d0d81222",
   "metadata": {},
   "outputs": [
    {
     "data": {
      "text/plain": [
       "<KerasTensor: shape=(None, 1) dtype=float32 (created by layer 'dense_5')>"
      ]
     },
     "execution_count": 112,
     "metadata": {},
     "output_type": "execute_result"
    }
   ],
   "source": [
    "classifier"
   ]
  },
  {
   "cell_type": "code",
   "execution_count": 113,
   "id": "684a2152",
   "metadata": {},
   "outputs": [],
   "source": [
    "siamese_network = Model(inputs =[input_image,validation_image], outputs= classifier ,name ='SiameseNetwork')"
   ]
  },
  {
   "cell_type": "code",
   "execution_count": 114,
   "id": "cec912ce",
   "metadata": {},
   "outputs": [
    {
     "name": "stdout",
     "output_type": "stream",
     "text": [
      "Model: \"SiameseNetwork\"\n",
      "__________________________________________________________________________________________________\n",
      " Layer (type)                Output Shape                 Param #   Connected to                  \n",
      "==================================================================================================\n",
      " input_img (InputLayer)      [(None, 100, 100, 3)]        0         []                            \n",
      "                                                                                                  \n",
      " validation_img (InputLayer  [(None, 100, 100, 3)]        0         []                            \n",
      " )                                                                                                \n",
      "                                                                                                  \n",
      " embedding (Functional)      (None, 4096)                 3896044   ['input_img[0][0]',           \n",
      "                                                          8          'validation_img[0][0]']      \n",
      "                                                                                                  \n",
      " l1_dist_3 (L1Dist)          (None, 4096)                 0         ['embedding[0][0]',           \n",
      "                                                                     'embedding[1][0]']           \n",
      "                                                                                                  \n",
      " dense_5 (Dense)             (None, 1)                    4097      ['l1_dist_3[0][0]']           \n",
      "                                                                                                  \n",
      "==================================================================================================\n",
      "Total params: 38964545 (148.64 MB)\n",
      "Trainable params: 38964545 (148.64 MB)\n",
      "Non-trainable params: 0 (0.00 Byte)\n",
      "__________________________________________________________________________________________________\n"
     ]
    }
   ],
   "source": [
    "siamese_network.summary()"
   ]
  },
  {
   "cell_type": "code",
   "execution_count": 115,
   "id": "237e0102",
   "metadata": {},
   "outputs": [],
   "source": [
    "def make_siamese_model():\n",
    "    #anchor image input in network \n",
    "    input_image =Input(name ='input_img',shape =(100,100,3))\n",
    "    \n",
    "    #validation image in network\n",
    "    validation_image =Input( name ='validation_img',shape =(100,100,3))\n",
    "    \n",
    "    #combine siamese distances components \n",
    "    siamese_layer =L1Dist()\n",
    "    siamese_layer._name = 'distance'\n",
    "    distances = siamese_layer(embedding(input_image),embedding(validation_image))\n",
    "    \n",
    "    #classifier layer\n",
    "    classifier =Dense(1,activation ='sigmoid')(distances)\n",
    "    return Model(inputs =[input_image,validation_image],outputs = classifier ,name ='SiameseNetwork')\n",
    "    "
   ]
  },
  {
   "cell_type": "code",
   "execution_count": 116,
   "id": "6fe455c7",
   "metadata": {},
   "outputs": [],
   "source": [
    "siamese_model = make_siamese_model()"
   ]
  },
  {
   "cell_type": "code",
   "execution_count": 117,
   "id": "0854fe8b",
   "metadata": {},
   "outputs": [
    {
     "name": "stdout",
     "output_type": "stream",
     "text": [
      "Model: \"SiameseNetwork\"\n",
      "__________________________________________________________________________________________________\n",
      " Layer (type)                Output Shape                 Param #   Connected to                  \n",
      "==================================================================================================\n",
      " input_img (InputLayer)      [(None, 100, 100, 3)]        0         []                            \n",
      "                                                                                                  \n",
      " validation_img (InputLayer  [(None, 100, 100, 3)]        0         []                            \n",
      " )                                                                                                \n",
      "                                                                                                  \n",
      " embedding (Functional)      (None, 4096)                 3896044   ['input_img[0][0]',           \n",
      "                                                          8          'validation_img[0][0]']      \n",
      "                                                                                                  \n",
      " distance (L1Dist)           (None, 4096)                 0         ['embedding[2][0]',           \n",
      "                                                                     'embedding[3][0]']           \n",
      "                                                                                                  \n",
      " dense_6 (Dense)             (None, 1)                    4097      ['distance[0][0]']            \n",
      "                                                                                                  \n",
      "==================================================================================================\n",
      "Total params: 38964545 (148.64 MB)\n",
      "Trainable params: 38964545 (148.64 MB)\n",
      "Non-trainable params: 0 (0.00 Byte)\n",
      "__________________________________________________________________________________________________\n"
     ]
    }
   ],
   "source": [
    "siamese_model.summary()"
   ]
  },
  {
   "cell_type": "markdown",
   "id": "2b60728a",
   "metadata": {},
   "source": [
    "# Training "
   ]
  },
  {
   "cell_type": "markdown",
   "id": "7dc6baf0",
   "metadata": {},
   "source": [
    "## Setup Loss and optimizer"
   ]
  },
  {
   "cell_type": "code",
   "execution_count": 118,
   "id": "df1b0a4a",
   "metadata": {},
   "outputs": [],
   "source": [
    "binary_cross_loss = tf.losses.BinaryCrossentropy()"
   ]
  },
  {
   "cell_type": "code",
   "execution_count": 119,
   "id": "e788dbf8",
   "metadata": {},
   "outputs": [],
   "source": [
    "opt = tf.keras.optimizers.Adam(1e-4)"
   ]
  },
  {
   "cell_type": "markdown",
   "id": "faec4746",
   "metadata": {},
   "source": [
    "## Establish Checkpoints "
   ]
  },
  {
   "cell_type": "code",
   "execution_count": 120,
   "id": "40730b9a",
   "metadata": {},
   "outputs": [],
   "source": [
    "checkpoint_dir ='./training_checkpoints'\n",
    "checkpoint_prefix =os.path.join(checkpoint_dir,'ckpt')\n",
    "checkpoint = tf.train.Checkpoint(opt =opt ,siamese_model = siamese_model)"
   ]
  },
  {
   "cell_type": "markdown",
   "id": "1b4dd8a8",
   "metadata": {},
   "source": [
    "## Build Train step function "
   ]
  },
  {
   "cell_type": "code",
   "execution_count": 121,
   "id": "fdca30d5",
   "metadata": {},
   "outputs": [],
   "source": [
    "test_batch = train_data.as_numpy_iterator()"
   ]
  },
  {
   "cell_type": "code",
   "execution_count": 122,
   "id": "66e45a31",
   "metadata": {},
   "outputs": [],
   "source": [
    "batch_1 = test_batch.next()"
   ]
  },
  {
   "cell_type": "code",
   "execution_count": 123,
   "id": "65dca55c",
   "metadata": {},
   "outputs": [],
   "source": [
    "x = batch_1[:2]"
   ]
  },
  {
   "cell_type": "code",
   "execution_count": 124,
   "id": "e8a61641",
   "metadata": {},
   "outputs": [],
   "source": [
    "y =batch_1[2]"
   ]
  },
  {
   "cell_type": "code",
   "execution_count": 125,
   "id": "a663c7e7",
   "metadata": {},
   "outputs": [
    {
     "data": {
      "text/plain": [
       "array([0., 1., 0., 0., 0., 0., 0., 0., 0., 1., 0., 1., 0., 1., 1., 0.],\n",
       "      dtype=float32)"
      ]
     },
     "execution_count": 125,
     "metadata": {},
     "output_type": "execute_result"
    }
   ],
   "source": [
    "y"
   ]
  },
  {
   "cell_type": "code",
   "execution_count": 126,
   "id": "e815bae8",
   "metadata": {},
   "outputs": [],
   "source": [
    "tf.losses.BinaryCrossentropy??"
   ]
  },
  {
   "cell_type": "code",
   "execution_count": 127,
   "id": "1d149f0f",
   "metadata": {},
   "outputs": [],
   "source": [
    "@tf.function\n",
    "def train_step(batch):\n",
    "    #record all our operation \n",
    "    with tf.GradientTape() as tape:\n",
    "        #get anchor and positive//negative \n",
    "        x = batch[:2]\n",
    "        y =batch[2]\n",
    "        \n",
    "        #forword pass\n",
    "        yhat = siamese_model(x,training=True)\n",
    "        #calculate loss\n",
    "        loss = binary_cross_loss(y,yhat)\n",
    "    print(loss)\n",
    "    #calculate graideints\n",
    "    grad =tape.gradient(loss,siamese_model.trainable_variables)\n",
    "    \n",
    "    #calculate updated weights and apply to siamese model\n",
    "    opt.apply_gradients(zip(grad,siamese_model.trainable_variables))\n",
    "    \n",
    "    #Return loss\n",
    "    return loss     "
   ]
  },
  {
   "cell_type": "markdown",
   "id": "9dfe7847",
   "metadata": {},
   "source": [
    "## Build Training Loop"
   ]
  },
  {
   "cell_type": "code",
   "execution_count": 128,
   "id": "89cef2ce",
   "metadata": {},
   "outputs": [],
   "source": [
    "# Import metric calculations\n",
    "from tensorflow.keras.metrics import Precision, Recall"
   ]
  },
  {
   "cell_type": "code",
   "execution_count": 129,
   "id": "0ffdd102",
   "metadata": {},
   "outputs": [],
   "source": [
    "def train(data,EPOCHS):\n",
    "    #LOOP THROUGH EPOCHS\n",
    "    \n",
    "    for epoch in range(1,EPOCHS+1):\n",
    "        print('\\n Epoch {}/{}'.format(epoch,EPOCHS))\n",
    "        progbar = tf.keras.utils.Progbar(len(data))\n",
    "        \n",
    "        #create a metric loop \n",
    "        r = Recall()\n",
    "        p = Precision()\n",
    "        \n",
    "        #loop through each batch\n",
    "        \n",
    "        for idx,batch in enumerate(data):\n",
    "            #Run train step here\n",
    "            loss = train_step(batch)\n",
    "            yhat =siamese_model.predict(batch[:2])\n",
    "            r.update_state(batch[2],yhat)\n",
    "            p.update_state(batch[2],yhat)\n",
    "            progbar.update(idx+1)\n",
    "        print(loss.numpy(),r.result().numpy(),p.result().numpy())\n",
    "        \n",
    "        #save checkpoints \n",
    "        if epoch %10 ==0:\n",
    "            checkpoint.save(file_prefix =checkpoint_prefix)\n",
    "            \n",
    "        "
   ]
  },
  {
   "cell_type": "markdown",
   "id": "c724bb62",
   "metadata": {},
   "source": [
    "## Train the model"
   ]
  },
  {
   "cell_type": "code",
   "execution_count": 130,
   "id": "194ec56f",
   "metadata": {},
   "outputs": [],
   "source": [
    "EPOCHS = 50"
   ]
  },
  {
   "cell_type": "code",
   "execution_count": 131,
   "id": "7a962c20",
   "metadata": {},
   "outputs": [
    {
     "name": "stdout",
     "output_type": "stream",
     "text": [
      "\n",
      " Epoch 1/50\n",
      "Tensor(\"binary_crossentropy/weighted_loss/value:0\", shape=(), dtype=float32)\n",
      "Tensor(\"binary_crossentropy/weighted_loss/value:0\", shape=(), dtype=float32)\n",
      "1/1 [==============================] - 1s 525ms/step\n",
      "1/1 [==============================] - 0s 426ms/step\n",
      "1/1 [==============================] - 0s 423ms/step\n",
      "1/1 [==============================] - 0s 445ms/step\n",
      "1/1 [==============================] - 0s 438ms/step\n",
      "1/1 [==============================] - 0s 483ms/step\n",
      "1/1 [==============================] - 0s 431ms/step\n",
      "1/1 [==============================] - 0s 429ms/step\n",
      "1/1 [==============================] - 0s 413ms/step\n",
      "1/1 [==============================] - 0s 421ms/step\n",
      "1/1 [==============================] - 0s 435ms/step\n",
      "1/1 [==============================] - 0s 446ms/step\n",
      "1/1 [==============================] - 0s 442ms/step\n",
      "1/1 [==============================] - 0s 435ms/step\n",
      "1/1 [==============================] - 0s 449ms/step\n",
      "1/1 [==============================] - 0s 451ms/step\n",
      "1/1 [==============================] - 0s 435ms/step\n",
      "1/1 [==============================] - 0s 422ms/step\n",
      "1/1 [==============================] - 0s 414ms/step\n",
      "1/1 [==============================] - 0s 453ms/step\n",
      "1/1 [==============================] - 0s 442ms/step\n",
      "1/1 [==============================] - 0s 428ms/step\n",
      "1/1 [==============================] - 0s 447ms/step\n",
      "1/1 [==============================] - 0s 437ms/step\n",
      "1/1 [==============================] - 0s 438ms/step\n",
      "1/1 [==============================] - 0s 423ms/step\n",
      "26/27 [===========================>..] - ETA: 4sTensor(\"binary_crossentropy/weighted_loss/value:0\", shape=(), dtype=float32)\n",
      "1/1 [==============================] - 0s 161ms/step\n",
      "27/27 [==============================] - 129s 5s/step\n",
      "0.012637375 0.64878047 1.0\n",
      "\n",
      " Epoch 2/50\n",
      "1/1 [==============================] - 0s 435ms/step\n",
      "1/1 [==============================] - 0s 421ms/step\n",
      "1/1 [==============================] - 0s 426ms/step\n",
      "1/1 [==============================] - 0s 416ms/step\n",
      "1/1 [==============================] - 0s 438ms/step\n",
      "1/1 [==============================] - 0s 420ms/step\n",
      "1/1 [==============================] - 0s 422ms/step\n",
      "1/1 [==============================] - 0s 414ms/step\n",
      "1/1 [==============================] - 0s 440ms/step\n",
      "1/1 [==============================] - 0s 411ms/step\n",
      "1/1 [==============================] - 0s 415ms/step\n",
      "1/1 [==============================] - 0s 421ms/step\n",
      "1/1 [==============================] - 0s 451ms/step\n",
      "1/1 [==============================] - 0s 429ms/step\n",
      "1/1 [==============================] - 0s 438ms/step\n",
      "1/1 [==============================] - 0s 449ms/step\n",
      "1/1 [==============================] - 0s 433ms/step\n",
      "1/1 [==============================] - 0s 417ms/step\n",
      "1/1 [==============================] - 0s 440ms/step\n",
      "1/1 [==============================] - 0s 417ms/step\n",
      "1/1 [==============================] - 0s 446ms/step\n",
      "1/1 [==============================] - 0s 442ms/step\n",
      "1/1 [==============================] - 0s 422ms/step\n",
      "1/1 [==============================] - 0s 452ms/step\n",
      "1/1 [==============================] - 0s 432ms/step\n",
      "1/1 [==============================] - 0s 440ms/step\n",
      "1/1 [==============================] - 0s 194ms/step\n",
      "27/27 [==============================] - 129s 5s/step\n",
      "0.009981659 1.0 0.995283\n",
      "\n",
      " Epoch 3/50\n",
      "1/1 [==============================] - 0s 434ms/step\n",
      "1/1 [==============================] - 0s 436ms/step\n",
      "1/1 [==============================] - 0s 432ms/step\n",
      "1/1 [==============================] - 0s 454ms/step\n",
      "1/1 [==============================] - 0s 440ms/step\n",
      "1/1 [==============================] - 0s 452ms/step\n",
      "1/1 [==============================] - 0s 448ms/step\n",
      "1/1 [==============================] - 0s 454ms/step\n",
      "1/1 [==============================] - 0s 425ms/step\n",
      "1/1 [==============================] - 0s 422ms/step\n",
      "1/1 [==============================] - 0s 474ms/step\n",
      "1/1 [==============================] - 0s 451ms/step\n",
      "1/1 [==============================] - 0s 459ms/step\n",
      "1/1 [==============================] - 0s 449ms/step\n",
      "1/1 [==============================] - 0s 446ms/step\n",
      "1/1 [==============================] - 0s 438ms/step\n",
      "1/1 [==============================] - 0s 434ms/step\n",
      "1/1 [==============================] - 0s 430ms/step\n",
      "1/1 [==============================] - 0s 454ms/step\n",
      "1/1 [==============================] - 0s 465ms/step\n",
      "1/1 [==============================] - 0s 427ms/step\n",
      "1/1 [==============================] - 0s 431ms/step\n",
      "1/1 [==============================] - 0s 443ms/step\n",
      "1/1 [==============================] - 0s 437ms/step\n",
      "1/1 [==============================] - 0s 456ms/step\n",
      "1/1 [==============================] - 0s 439ms/step\n",
      "1/1 [==============================] - 0s 183ms/step\n",
      "27/27 [==============================] - 130s 5s/step\n",
      "0.008087736 1.0 1.0\n",
      "\n",
      " Epoch 4/50\n",
      "1/1 [==============================] - 0s 428ms/step\n",
      "1/1 [==============================] - 0s 438ms/step\n",
      "1/1 [==============================] - 0s 434ms/step\n",
      "1/1 [==============================] - 0s 427ms/step\n",
      "1/1 [==============================] - 0s 447ms/step\n",
      "1/1 [==============================] - 0s 435ms/step\n",
      "1/1 [==============================] - 0s 437ms/step\n",
      "1/1 [==============================] - 0s 433ms/step\n",
      "1/1 [==============================] - 0s 452ms/step\n",
      "1/1 [==============================] - 0s 461ms/step\n",
      "1/1 [==============================] - 0s 438ms/step\n",
      "1/1 [==============================] - 0s 433ms/step\n",
      "1/1 [==============================] - 0s 446ms/step\n",
      "1/1 [==============================] - 0s 438ms/step\n",
      "1/1 [==============================] - 0s 450ms/step\n",
      "1/1 [==============================] - 0s 454ms/step\n",
      "1/1 [==============================] - 0s 476ms/step\n",
      "1/1 [==============================] - 0s 441ms/step\n",
      "1/1 [==============================] - 0s 468ms/step\n",
      "1/1 [==============================] - 0s 439ms/step\n",
      "1/1 [==============================] - 0s 460ms/step\n",
      "1/1 [==============================] - 0s 443ms/step\n",
      "1/1 [==============================] - 0s 449ms/step\n",
      "1/1 [==============================] - 0s 441ms/step\n",
      "1/1 [==============================] - 0s 463ms/step\n",
      "1/1 [==============================] - 0s 441ms/step\n",
      "1/1 [==============================] - 0s 188ms/step\n",
      "27/27 [==============================] - 131s 5s/step\n",
      "0.015808316 1.0 1.0\n",
      "\n",
      " Epoch 5/50\n",
      "1/1 [==============================] - 0s 455ms/step\n",
      "1/1 [==============================] - 0s 429ms/step\n",
      "1/1 [==============================] - 0s 464ms/step\n",
      "1/1 [==============================] - 0s 441ms/step\n",
      "1/1 [==============================] - 0s 443ms/step\n",
      "1/1 [==============================] - 0s 441ms/step\n",
      "1/1 [==============================] - 0s 427ms/step\n",
      "1/1 [==============================] - 0s 436ms/step\n",
      "1/1 [==============================] - 0s 465ms/step\n",
      "1/1 [==============================] - 0s 445ms/step\n",
      "1/1 [==============================] - 0s 436ms/step\n",
      "1/1 [==============================] - 0s 458ms/step\n",
      "1/1 [==============================] - 0s 442ms/step\n",
      "1/1 [==============================] - 0s 442ms/step\n",
      "1/1 [==============================] - 0s 441ms/step\n",
      "1/1 [==============================] - 0s 441ms/step\n",
      "1/1 [==============================] - 0s 452ms/step\n",
      "1/1 [==============================] - 0s 440ms/step\n",
      "1/1 [==============================] - 0s 439ms/step\n",
      "1/1 [==============================] - 0s 430ms/step\n",
      "1/1 [==============================] - 0s 452ms/step\n",
      "1/1 [==============================] - 0s 446ms/step\n",
      "1/1 [==============================] - 0s 461ms/step\n",
      "1/1 [==============================] - 0s 442ms/step\n",
      "1/1 [==============================] - 0s 446ms/step\n",
      "1/1 [==============================] - 0s 447ms/step\n",
      "1/1 [==============================] - 0s 169ms/step\n",
      "27/27 [==============================] - 131s 5s/step\n",
      "9.805156e-06 1.0 1.0\n",
      "\n",
      " Epoch 6/50\n",
      "1/1 [==============================] - 0s 445ms/step\n",
      "1/1 [==============================] - 0s 457ms/step\n",
      "1/1 [==============================] - 0s 436ms/step\n",
      "1/1 [==============================] - 0s 439ms/step\n",
      "1/1 [==============================] - 0s 447ms/step\n"
     ]
    },
    {
     "name": "stdout",
     "output_type": "stream",
     "text": [
      "1/1 [==============================] - 0s 456ms/step\n",
      "1/1 [==============================] - 0s 463ms/step\n",
      "1/1 [==============================] - 0s 446ms/step\n",
      "1/1 [==============================] - 0s 478ms/step\n",
      "1/1 [==============================] - 0s 440ms/step\n",
      "1/1 [==============================] - 0s 444ms/step\n",
      "1/1 [==============================] - 0s 447ms/step\n",
      "1/1 [==============================] - 0s 436ms/step\n",
      "1/1 [==============================] - 0s 455ms/step\n",
      "1/1 [==============================] - 0s 468ms/step\n",
      "1/1 [==============================] - 0s 455ms/step\n",
      "1/1 [==============================] - 0s 460ms/step\n",
      "1/1 [==============================] - 0s 444ms/step\n",
      "1/1 [==============================] - 0s 441ms/step\n",
      "1/1 [==============================] - 0s 439ms/step\n",
      "1/1 [==============================] - 0s 441ms/step\n",
      "1/1 [==============================] - 0s 448ms/step\n",
      "1/1 [==============================] - 0s 427ms/step\n",
      "1/1 [==============================] - 0s 424ms/step\n",
      "1/1 [==============================] - 0s 447ms/step\n",
      "1/1 [==============================] - 0s 458ms/step\n",
      "1/1 [==============================] - 0s 181ms/step\n",
      "27/27 [==============================] - 133s 5s/step\n",
      "0.00018682578 1.0 1.0\n",
      "\n",
      " Epoch 7/50\n",
      "1/1 [==============================] - 0s 425ms/step\n",
      "1/1 [==============================] - 0s 450ms/step\n",
      "1/1 [==============================] - 0s 433ms/step\n",
      "1/1 [==============================] - 0s 447ms/step\n",
      "1/1 [==============================] - 0s 431ms/step\n",
      "1/1 [==============================] - 0s 419ms/step\n",
      "1/1 [==============================] - 0s 449ms/step\n",
      "1/1 [==============================] - 0s 440ms/step\n",
      "1/1 [==============================] - 0s 432ms/step\n",
      "1/1 [==============================] - 0s 454ms/step\n",
      "1/1 [==============================] - 0s 434ms/step\n",
      "1/1 [==============================] - 0s 438ms/step\n",
      "1/1 [==============================] - 0s 454ms/step\n",
      "1/1 [==============================] - 0s 423ms/step\n",
      "1/1 [==============================] - 0s 427ms/step\n",
      "1/1 [==============================] - 0s 427ms/step\n",
      "1/1 [==============================] - 0s 432ms/step\n",
      "1/1 [==============================] - 0s 424ms/step\n",
      "1/1 [==============================] - 0s 413ms/step\n",
      "1/1 [==============================] - 0s 425ms/step\n",
      "1/1 [==============================] - 0s 454ms/step\n",
      "1/1 [==============================] - 0s 441ms/step\n",
      "1/1 [==============================] - 0s 426ms/step\n",
      "1/1 [==============================] - 0s 465ms/step\n",
      "1/1 [==============================] - 0s 436ms/step\n",
      "1/1 [==============================] - 0s 441ms/step\n",
      "1/1 [==============================] - 0s 178ms/step\n",
      "27/27 [==============================] - 131s 5s/step\n",
      "3.1473224e-05 1.0 1.0\n",
      "\n",
      " Epoch 8/50\n",
      "1/1 [==============================] - 0s 421ms/step\n",
      " 1/27 [>.............................] - ETA: 2:08"
     ]
    },
    {
     "ename": "KeyboardInterrupt",
     "evalue": "",
     "output_type": "error",
     "traceback": [
      "\u001b[0;31m---------------------------------------------------------------------------\u001b[0m",
      "\u001b[0;31mKeyboardInterrupt\u001b[0m                         Traceback (most recent call last)",
      "Cell \u001b[0;32mIn[131], line 1\u001b[0m\n\u001b[0;32m----> 1\u001b[0m \u001b[43mtrain\u001b[49m\u001b[43m(\u001b[49m\u001b[43mtrain_data\u001b[49m\u001b[43m,\u001b[49m\u001b[43m \u001b[49m\u001b[43mEPOCHS\u001b[49m\u001b[43m)\u001b[49m\n",
      "Cell \u001b[0;32mIn[129], line 16\u001b[0m, in \u001b[0;36mtrain\u001b[0;34m(data, EPOCHS)\u001b[0m\n\u001b[1;32m     12\u001b[0m \u001b[38;5;66;03m#loop through each batch\u001b[39;00m\n\u001b[1;32m     14\u001b[0m \u001b[38;5;28;01mfor\u001b[39;00m idx,batch \u001b[38;5;129;01min\u001b[39;00m \u001b[38;5;28menumerate\u001b[39m(data):\n\u001b[1;32m     15\u001b[0m     \u001b[38;5;66;03m#Run train step here\u001b[39;00m\n\u001b[0;32m---> 16\u001b[0m     loss \u001b[38;5;241m=\u001b[39m \u001b[43mtrain_step\u001b[49m\u001b[43m(\u001b[49m\u001b[43mbatch\u001b[49m\u001b[43m)\u001b[49m\n\u001b[1;32m     17\u001b[0m     yhat \u001b[38;5;241m=\u001b[39msiamese_model\u001b[38;5;241m.\u001b[39mpredict(batch[:\u001b[38;5;241m2\u001b[39m])\n\u001b[1;32m     18\u001b[0m     r\u001b[38;5;241m.\u001b[39mupdate_state(batch[\u001b[38;5;241m2\u001b[39m],yhat)\n",
      "File \u001b[0;32m~/.local/lib/python3.10/site-packages/tensorflow/python/util/traceback_utils.py:150\u001b[0m, in \u001b[0;36mfilter_traceback.<locals>.error_handler\u001b[0;34m(*args, **kwargs)\u001b[0m\n\u001b[1;32m    148\u001b[0m filtered_tb \u001b[38;5;241m=\u001b[39m \u001b[38;5;28;01mNone\u001b[39;00m\n\u001b[1;32m    149\u001b[0m \u001b[38;5;28;01mtry\u001b[39;00m:\n\u001b[0;32m--> 150\u001b[0m   \u001b[38;5;28;01mreturn\u001b[39;00m \u001b[43mfn\u001b[49m\u001b[43m(\u001b[49m\u001b[38;5;241;43m*\u001b[39;49m\u001b[43margs\u001b[49m\u001b[43m,\u001b[49m\u001b[43m \u001b[49m\u001b[38;5;241;43m*\u001b[39;49m\u001b[38;5;241;43m*\u001b[39;49m\u001b[43mkwargs\u001b[49m\u001b[43m)\u001b[49m\n\u001b[1;32m    151\u001b[0m \u001b[38;5;28;01mexcept\u001b[39;00m \u001b[38;5;167;01mException\u001b[39;00m \u001b[38;5;28;01mas\u001b[39;00m e:\n\u001b[1;32m    152\u001b[0m   filtered_tb \u001b[38;5;241m=\u001b[39m _process_traceback_frames(e\u001b[38;5;241m.\u001b[39m__traceback__)\n",
      "File \u001b[0;32m~/.local/lib/python3.10/site-packages/tensorflow/python/eager/polymorphic_function/polymorphic_function.py:825\u001b[0m, in \u001b[0;36mFunction.__call__\u001b[0;34m(self, *args, **kwds)\u001b[0m\n\u001b[1;32m    822\u001b[0m compiler \u001b[38;5;241m=\u001b[39m \u001b[38;5;124m\"\u001b[39m\u001b[38;5;124mxla\u001b[39m\u001b[38;5;124m\"\u001b[39m \u001b[38;5;28;01mif\u001b[39;00m \u001b[38;5;28mself\u001b[39m\u001b[38;5;241m.\u001b[39m_jit_compile \u001b[38;5;28;01melse\u001b[39;00m \u001b[38;5;124m\"\u001b[39m\u001b[38;5;124mnonXla\u001b[39m\u001b[38;5;124m\"\u001b[39m\n\u001b[1;32m    824\u001b[0m \u001b[38;5;28;01mwith\u001b[39;00m OptionalXlaContext(\u001b[38;5;28mself\u001b[39m\u001b[38;5;241m.\u001b[39m_jit_compile):\n\u001b[0;32m--> 825\u001b[0m   result \u001b[38;5;241m=\u001b[39m \u001b[38;5;28;43mself\u001b[39;49m\u001b[38;5;241;43m.\u001b[39;49m\u001b[43m_call\u001b[49m\u001b[43m(\u001b[49m\u001b[38;5;241;43m*\u001b[39;49m\u001b[43margs\u001b[49m\u001b[43m,\u001b[49m\u001b[43m \u001b[49m\u001b[38;5;241;43m*\u001b[39;49m\u001b[38;5;241;43m*\u001b[39;49m\u001b[43mkwds\u001b[49m\u001b[43m)\u001b[49m\n\u001b[1;32m    827\u001b[0m new_tracing_count \u001b[38;5;241m=\u001b[39m \u001b[38;5;28mself\u001b[39m\u001b[38;5;241m.\u001b[39mexperimental_get_tracing_count()\n\u001b[1;32m    828\u001b[0m without_tracing \u001b[38;5;241m=\u001b[39m (tracing_count \u001b[38;5;241m==\u001b[39m new_tracing_count)\n",
      "File \u001b[0;32m~/.local/lib/python3.10/site-packages/tensorflow/python/eager/polymorphic_function/polymorphic_function.py:857\u001b[0m, in \u001b[0;36mFunction._call\u001b[0;34m(self, *args, **kwds)\u001b[0m\n\u001b[1;32m    854\u001b[0m   \u001b[38;5;28mself\u001b[39m\u001b[38;5;241m.\u001b[39m_lock\u001b[38;5;241m.\u001b[39mrelease()\n\u001b[1;32m    855\u001b[0m   \u001b[38;5;66;03m# In this case we have created variables on the first call, so we run the\u001b[39;00m\n\u001b[1;32m    856\u001b[0m   \u001b[38;5;66;03m# defunned version which is guaranteed to never create variables.\u001b[39;00m\n\u001b[0;32m--> 857\u001b[0m   \u001b[38;5;28;01mreturn\u001b[39;00m \u001b[38;5;28;43mself\u001b[39;49m\u001b[38;5;241;43m.\u001b[39;49m\u001b[43m_no_variable_creation_fn\u001b[49m\u001b[43m(\u001b[49m\u001b[38;5;241;43m*\u001b[39;49m\u001b[43margs\u001b[49m\u001b[43m,\u001b[49m\u001b[43m \u001b[49m\u001b[38;5;241;43m*\u001b[39;49m\u001b[38;5;241;43m*\u001b[39;49m\u001b[43mkwds\u001b[49m\u001b[43m)\u001b[49m  \u001b[38;5;66;03m# pylint: disable=not-callable\u001b[39;00m\n\u001b[1;32m    858\u001b[0m \u001b[38;5;28;01melif\u001b[39;00m \u001b[38;5;28mself\u001b[39m\u001b[38;5;241m.\u001b[39m_variable_creation_fn \u001b[38;5;129;01mis\u001b[39;00m \u001b[38;5;129;01mnot\u001b[39;00m \u001b[38;5;28;01mNone\u001b[39;00m:\n\u001b[1;32m    859\u001b[0m   \u001b[38;5;66;03m# Release the lock early so that multiple threads can perform the call\u001b[39;00m\n\u001b[1;32m    860\u001b[0m   \u001b[38;5;66;03m# in parallel.\u001b[39;00m\n\u001b[1;32m    861\u001b[0m   \u001b[38;5;28mself\u001b[39m\u001b[38;5;241m.\u001b[39m_lock\u001b[38;5;241m.\u001b[39mrelease()\n",
      "File \u001b[0;32m~/.local/lib/python3.10/site-packages/tensorflow/python/eager/polymorphic_function/tracing_compiler.py:148\u001b[0m, in \u001b[0;36mTracingCompiler.__call__\u001b[0;34m(self, *args, **kwargs)\u001b[0m\n\u001b[1;32m    145\u001b[0m \u001b[38;5;28;01mwith\u001b[39;00m \u001b[38;5;28mself\u001b[39m\u001b[38;5;241m.\u001b[39m_lock:\n\u001b[1;32m    146\u001b[0m   (concrete_function,\n\u001b[1;32m    147\u001b[0m    filtered_flat_args) \u001b[38;5;241m=\u001b[39m \u001b[38;5;28mself\u001b[39m\u001b[38;5;241m.\u001b[39m_maybe_define_function(args, kwargs)\n\u001b[0;32m--> 148\u001b[0m \u001b[38;5;28;01mreturn\u001b[39;00m \u001b[43mconcrete_function\u001b[49m\u001b[38;5;241;43m.\u001b[39;49m\u001b[43m_call_flat\u001b[49m\u001b[43m(\u001b[49m\n\u001b[1;32m    149\u001b[0m \u001b[43m    \u001b[49m\u001b[43mfiltered_flat_args\u001b[49m\u001b[43m,\u001b[49m\u001b[43m \u001b[49m\u001b[43mcaptured_inputs\u001b[49m\u001b[38;5;241;43m=\u001b[39;49m\u001b[43mconcrete_function\u001b[49m\u001b[38;5;241;43m.\u001b[39;49m\u001b[43mcaptured_inputs\u001b[49m\u001b[43m)\u001b[49m\n",
      "File \u001b[0;32m~/.local/lib/python3.10/site-packages/tensorflow/python/eager/polymorphic_function/monomorphic_function.py:1349\u001b[0m, in \u001b[0;36mConcreteFunction._call_flat\u001b[0;34m(self, args, captured_inputs)\u001b[0m\n\u001b[1;32m   1345\u001b[0m possible_gradient_type \u001b[38;5;241m=\u001b[39m gradients_util\u001b[38;5;241m.\u001b[39mPossibleTapeGradientTypes(args)\n\u001b[1;32m   1346\u001b[0m \u001b[38;5;28;01mif\u001b[39;00m (possible_gradient_type \u001b[38;5;241m==\u001b[39m gradients_util\u001b[38;5;241m.\u001b[39mPOSSIBLE_GRADIENT_TYPES_NONE\n\u001b[1;32m   1347\u001b[0m     \u001b[38;5;129;01mand\u001b[39;00m executing_eagerly):\n\u001b[1;32m   1348\u001b[0m   \u001b[38;5;66;03m# No tape is watching; skip to running the function.\u001b[39;00m\n\u001b[0;32m-> 1349\u001b[0m   \u001b[38;5;28;01mreturn\u001b[39;00m \u001b[38;5;28mself\u001b[39m\u001b[38;5;241m.\u001b[39m_build_call_outputs(\u001b[38;5;28;43mself\u001b[39;49m\u001b[38;5;241;43m.\u001b[39;49m\u001b[43m_inference_function\u001b[49m\u001b[43m(\u001b[49m\u001b[38;5;241;43m*\u001b[39;49m\u001b[43margs\u001b[49m\u001b[43m)\u001b[49m)\n\u001b[1;32m   1350\u001b[0m forward_backward \u001b[38;5;241m=\u001b[39m \u001b[38;5;28mself\u001b[39m\u001b[38;5;241m.\u001b[39m_select_forward_and_backward_functions(\n\u001b[1;32m   1351\u001b[0m     args,\n\u001b[1;32m   1352\u001b[0m     possible_gradient_type,\n\u001b[1;32m   1353\u001b[0m     executing_eagerly)\n\u001b[1;32m   1354\u001b[0m forward_function, args_with_tangents \u001b[38;5;241m=\u001b[39m forward_backward\u001b[38;5;241m.\u001b[39mforward()\n",
      "File \u001b[0;32m~/.local/lib/python3.10/site-packages/tensorflow/python/eager/polymorphic_function/atomic_function.py:196\u001b[0m, in \u001b[0;36mAtomicFunction.__call__\u001b[0;34m(self, *args)\u001b[0m\n\u001b[1;32m    194\u001b[0m \u001b[38;5;28;01mwith\u001b[39;00m record\u001b[38;5;241m.\u001b[39mstop_recording():\n\u001b[1;32m    195\u001b[0m   \u001b[38;5;28;01mif\u001b[39;00m \u001b[38;5;28mself\u001b[39m\u001b[38;5;241m.\u001b[39m_bound_context\u001b[38;5;241m.\u001b[39mexecuting_eagerly():\n\u001b[0;32m--> 196\u001b[0m     outputs \u001b[38;5;241m=\u001b[39m \u001b[38;5;28;43mself\u001b[39;49m\u001b[38;5;241;43m.\u001b[39;49m\u001b[43m_bound_context\u001b[49m\u001b[38;5;241;43m.\u001b[39;49m\u001b[43mcall_function\u001b[49m\u001b[43m(\u001b[49m\n\u001b[1;32m    197\u001b[0m \u001b[43m        \u001b[49m\u001b[38;5;28;43mself\u001b[39;49m\u001b[38;5;241;43m.\u001b[39;49m\u001b[43mname\u001b[49m\u001b[43m,\u001b[49m\n\u001b[1;32m    198\u001b[0m \u001b[43m        \u001b[49m\u001b[38;5;28;43mlist\u001b[39;49m\u001b[43m(\u001b[49m\u001b[43margs\u001b[49m\u001b[43m)\u001b[49m\u001b[43m,\u001b[49m\n\u001b[1;32m    199\u001b[0m \u001b[43m        \u001b[49m\u001b[38;5;28;43mlen\u001b[39;49m\u001b[43m(\u001b[49m\u001b[38;5;28;43mself\u001b[39;49m\u001b[38;5;241;43m.\u001b[39;49m\u001b[43mfunction_type\u001b[49m\u001b[38;5;241;43m.\u001b[39;49m\u001b[43mflat_outputs\u001b[49m\u001b[43m)\u001b[49m\u001b[43m,\u001b[49m\n\u001b[1;32m    200\u001b[0m \u001b[43m    \u001b[49m\u001b[43m)\u001b[49m\n\u001b[1;32m    201\u001b[0m   \u001b[38;5;28;01melse\u001b[39;00m:\n\u001b[1;32m    202\u001b[0m     outputs \u001b[38;5;241m=\u001b[39m make_call_op_in_graph(\u001b[38;5;28mself\u001b[39m, \u001b[38;5;28mlist\u001b[39m(args))\n",
      "File \u001b[0;32m~/.local/lib/python3.10/site-packages/tensorflow/python/eager/context.py:1457\u001b[0m, in \u001b[0;36mContext.call_function\u001b[0;34m(self, name, tensor_inputs, num_outputs)\u001b[0m\n\u001b[1;32m   1455\u001b[0m cancellation_context \u001b[38;5;241m=\u001b[39m cancellation\u001b[38;5;241m.\u001b[39mcontext()\n\u001b[1;32m   1456\u001b[0m \u001b[38;5;28;01mif\u001b[39;00m cancellation_context \u001b[38;5;129;01mis\u001b[39;00m \u001b[38;5;28;01mNone\u001b[39;00m:\n\u001b[0;32m-> 1457\u001b[0m   outputs \u001b[38;5;241m=\u001b[39m \u001b[43mexecute\u001b[49m\u001b[38;5;241;43m.\u001b[39;49m\u001b[43mexecute\u001b[49m\u001b[43m(\u001b[49m\n\u001b[1;32m   1458\u001b[0m \u001b[43m      \u001b[49m\u001b[43mname\u001b[49m\u001b[38;5;241;43m.\u001b[39;49m\u001b[43mdecode\u001b[49m\u001b[43m(\u001b[49m\u001b[38;5;124;43m\"\u001b[39;49m\u001b[38;5;124;43mutf-8\u001b[39;49m\u001b[38;5;124;43m\"\u001b[39;49m\u001b[43m)\u001b[49m\u001b[43m,\u001b[49m\n\u001b[1;32m   1459\u001b[0m \u001b[43m      \u001b[49m\u001b[43mnum_outputs\u001b[49m\u001b[38;5;241;43m=\u001b[39;49m\u001b[43mnum_outputs\u001b[49m\u001b[43m,\u001b[49m\n\u001b[1;32m   1460\u001b[0m \u001b[43m      \u001b[49m\u001b[43minputs\u001b[49m\u001b[38;5;241;43m=\u001b[39;49m\u001b[43mtensor_inputs\u001b[49m\u001b[43m,\u001b[49m\n\u001b[1;32m   1461\u001b[0m \u001b[43m      \u001b[49m\u001b[43mattrs\u001b[49m\u001b[38;5;241;43m=\u001b[39;49m\u001b[43mattrs\u001b[49m\u001b[43m,\u001b[49m\n\u001b[1;32m   1462\u001b[0m \u001b[43m      \u001b[49m\u001b[43mctx\u001b[49m\u001b[38;5;241;43m=\u001b[39;49m\u001b[38;5;28;43mself\u001b[39;49m\u001b[43m,\u001b[49m\n\u001b[1;32m   1463\u001b[0m \u001b[43m  \u001b[49m\u001b[43m)\u001b[49m\n\u001b[1;32m   1464\u001b[0m \u001b[38;5;28;01melse\u001b[39;00m:\n\u001b[1;32m   1465\u001b[0m   outputs \u001b[38;5;241m=\u001b[39m execute\u001b[38;5;241m.\u001b[39mexecute_with_cancellation(\n\u001b[1;32m   1466\u001b[0m       name\u001b[38;5;241m.\u001b[39mdecode(\u001b[38;5;124m\"\u001b[39m\u001b[38;5;124mutf-8\u001b[39m\u001b[38;5;124m\"\u001b[39m),\n\u001b[1;32m   1467\u001b[0m       num_outputs\u001b[38;5;241m=\u001b[39mnum_outputs,\n\u001b[0;32m   (...)\u001b[0m\n\u001b[1;32m   1471\u001b[0m       cancellation_manager\u001b[38;5;241m=\u001b[39mcancellation_context,\n\u001b[1;32m   1472\u001b[0m   )\n",
      "File \u001b[0;32m~/.local/lib/python3.10/site-packages/tensorflow/python/eager/execute.py:53\u001b[0m, in \u001b[0;36mquick_execute\u001b[0;34m(op_name, num_outputs, inputs, attrs, ctx, name)\u001b[0m\n\u001b[1;32m     51\u001b[0m \u001b[38;5;28;01mtry\u001b[39;00m:\n\u001b[1;32m     52\u001b[0m   ctx\u001b[38;5;241m.\u001b[39mensure_initialized()\n\u001b[0;32m---> 53\u001b[0m   tensors \u001b[38;5;241m=\u001b[39m \u001b[43mpywrap_tfe\u001b[49m\u001b[38;5;241;43m.\u001b[39;49m\u001b[43mTFE_Py_Execute\u001b[49m\u001b[43m(\u001b[49m\u001b[43mctx\u001b[49m\u001b[38;5;241;43m.\u001b[39;49m\u001b[43m_handle\u001b[49m\u001b[43m,\u001b[49m\u001b[43m \u001b[49m\u001b[43mdevice_name\u001b[49m\u001b[43m,\u001b[49m\u001b[43m \u001b[49m\u001b[43mop_name\u001b[49m\u001b[43m,\u001b[49m\n\u001b[1;32m     54\u001b[0m \u001b[43m                                      \u001b[49m\u001b[43minputs\u001b[49m\u001b[43m,\u001b[49m\u001b[43m \u001b[49m\u001b[43mattrs\u001b[49m\u001b[43m,\u001b[49m\u001b[43m \u001b[49m\u001b[43mnum_outputs\u001b[49m\u001b[43m)\u001b[49m\n\u001b[1;32m     55\u001b[0m \u001b[38;5;28;01mexcept\u001b[39;00m core\u001b[38;5;241m.\u001b[39m_NotOkStatusException \u001b[38;5;28;01mas\u001b[39;00m e:\n\u001b[1;32m     56\u001b[0m   \u001b[38;5;28;01mif\u001b[39;00m name \u001b[38;5;129;01mis\u001b[39;00m \u001b[38;5;129;01mnot\u001b[39;00m \u001b[38;5;28;01mNone\u001b[39;00m:\n",
      "\u001b[0;31mKeyboardInterrupt\u001b[0m: "
     ]
    }
   ],
   "source": [
    "train(train_data, EPOCHS)"
   ]
  },
  {
   "cell_type": "markdown",
   "id": "ba8c1448",
   "metadata": {},
   "source": [
    "# Evaluation"
   ]
  },
  {
   "cell_type": "markdown",
   "id": "ac347b8f",
   "metadata": {},
   "source": [
    "## Import Metrics"
   ]
  },
  {
   "cell_type": "code",
   "execution_count": 132,
   "id": "b847a6c3",
   "metadata": {},
   "outputs": [],
   "source": [
    "# Import metric calculations\n",
    "from tensorflow.keras.metrics import Precision, Recall"
   ]
  },
  {
   "cell_type": "markdown",
   "id": "5cde0dd6",
   "metadata": {},
   "source": [
    "## Make Predictions"
   ]
  },
  {
   "cell_type": "code",
   "execution_count": 133,
   "id": "76da072a",
   "metadata": {},
   "outputs": [],
   "source": [
    "# Get a batch of test data\n",
    "test_input, test_val, y_true = test_data.as_numpy_iterator().next()"
   ]
  },
  {
   "cell_type": "code",
   "execution_count": 134,
   "id": "64e3abb2",
   "metadata": {},
   "outputs": [
    {
     "name": "stdout",
     "output_type": "stream",
     "text": [
      "1/1 [==============================] - 0s 415ms/step\n"
     ]
    }
   ],
   "source": [
    "y_hat = siamese_model.predict([test_input, test_val])"
   ]
  },
  {
   "cell_type": "code",
   "execution_count": 135,
   "id": "9111bf0d",
   "metadata": {},
   "outputs": [
    {
     "data": {
      "text/plain": [
       "[0, 1, 1, 1, 0, 0, 0, 1, 1, 1, 0, 1, 0, 1, 0, 1]"
      ]
     },
     "execution_count": 135,
     "metadata": {},
     "output_type": "execute_result"
    }
   ],
   "source": [
    "# Post processing the results \n",
    "[1 if prediction > 0.5 else 0 for prediction in y_hat ]"
   ]
  },
  {
   "cell_type": "code",
   "execution_count": 136,
   "id": "3781f688",
   "metadata": {},
   "outputs": [
    {
     "data": {
      "text/plain": [
       "array([0., 1., 1., 1., 0., 0., 0., 1., 1., 1., 0., 1., 0., 1., 0., 1.],\n",
       "      dtype=float32)"
      ]
     },
     "execution_count": 136,
     "metadata": {},
     "output_type": "execute_result"
    }
   ],
   "source": [
    "y_true"
   ]
  },
  {
   "cell_type": "markdown",
   "id": "e66d8ca6",
   "metadata": {},
   "source": [
    "#  Calcu.. Metrics"
   ]
  },
  {
   "cell_type": "code",
   "execution_count": 137,
   "id": "b08093ca",
   "metadata": {},
   "outputs": [
    {
     "data": {
      "text/plain": [
       "1.0"
      ]
     },
     "execution_count": 137,
     "metadata": {},
     "output_type": "execute_result"
    }
   ],
   "source": [
    "# Creating a metric object \n",
    "m = Recall()\n",
    "\n",
    "# Calculating the recall value \n",
    "m.update_state(y_true, y_hat)\n",
    "\n",
    "# Return Recall Result\n",
    "m.result().numpy()"
   ]
  },
  {
   "cell_type": "code",
   "execution_count": 138,
   "id": "274b5365",
   "metadata": {},
   "outputs": [
    {
     "data": {
      "text/plain": [
       "1.0"
      ]
     },
     "execution_count": 138,
     "metadata": {},
     "output_type": "execute_result"
    }
   ],
   "source": [
    "# Creating a metric object \n",
    "m = Precision()\n",
    "\n",
    "# Calculating the recall value \n",
    "m.update_state(y_true, y_hat)\n",
    "\n",
    "# Return Recall Result\n",
    "m.result().numpy()"
   ]
  },
  {
   "cell_type": "code",
   "execution_count": 139,
   "id": "1f5a2738",
   "metadata": {},
   "outputs": [
    {
     "name": "stdout",
     "output_type": "stream",
     "text": [
      "1/1 [==============================] - 0s 406ms/step\n",
      "1/1 [==============================] - 0s 415ms/step\n",
      "1/1 [==============================] - 0s 425ms/step\n",
      "1/1 [==============================] - 0s 427ms/step\n",
      "1/1 [==============================] - 0s 405ms/step\n",
      "1/1 [==============================] - 0s 404ms/step\n",
      "1/1 [==============================] - 0s 408ms/step\n",
      "1/1 [==============================] - 0s 410ms/step\n",
      "1/1 [==============================] - 0s 408ms/step\n",
      "1/1 [==============================] - 0s 409ms/step\n",
      "1/1 [==============================] - 0s 407ms/step\n",
      "1/1 [==============================] - 0s 154ms/step\n",
      "1.0 1.0\n"
     ]
    }
   ],
   "source": [
    "r = Recall()\n",
    "p = Precision()\n",
    "\n",
    "for test_input, test_val, y_true in test_data.as_numpy_iterator():\n",
    "    yhat = siamese_model.predict([test_input, test_val])\n",
    "    r.update_state(y_true, yhat)\n",
    "    p.update_state(y_true,yhat) \n",
    "\n",
    "print(r.result().numpy(), p.result().numpy())"
   ]
  },
  {
   "cell_type": "markdown",
   "id": "876b36fd",
   "metadata": {},
   "source": [
    "## visulization result"
   ]
  },
  {
   "cell_type": "code",
   "execution_count": 140,
   "id": "86dba335",
   "metadata": {},
   "outputs": [
    {
     "data": {
      "image/png": "[encoded data removed]",
      "text/plain": [
       "<Figure size 1000x800 with 2 Axes>"
      ]
     },
     "metadata": {},
     "output_type": "display_data"
    }
   ],
   "source": [
    "# Set plot size \n",
    "plt.figure(figsize=(10,8))\n",
    "\n",
    "# Set first subplot\n",
    "plt.subplot(1,2,1)\n",
    "plt.imshow(test_input[0])\n",
    "\n",
    "# Set second subplot\n",
    "plt.subplot(1,2,2)\n",
    "plt.imshow(test_val[0])\n",
    "\n",
    "# Renders cleanly\n",
    "plt.show()"
   ]
  },
  {
   "cell_type": "code",
   "execution_count": null,
   "id": "5755194d",
   "metadata": {},
   "outputs": [],
   "source": []
  },
  {
   "cell_type": "markdown",
   "id": "4cf60196",
   "metadata": {},
   "source": [
    "## Save Model"
   ]
  },
  {
   "cell_type": "code",
   "execution_count": 141,
   "id": "890e023e",
   "metadata": {},
   "outputs": [
    {
     "name": "stdout",
     "output_type": "stream",
     "text": [
      "WARNING:tensorflow:Compiled the loaded model, but the compiled metrics have yet to be built. `model.compile_metrics` will be empty until you train or evaluate the model.\n"
     ]
    },
    {
     "name": "stderr",
     "output_type": "stream",
     "text": [
      "/home/akhilesh/.local/lib/python3.10/site-packages/keras/src/engine/training.py:3000: UserWarning: You are saving your model as an HDF5 file via `model.save()`. This file format is considered legacy. We recommend using instead the native Keras format, e.g. `model.save('my_model.keras')`.\n",
      "  saving_api.save_model(\n"
     ]
    }
   ],
   "source": [
    "# Save weights\n",
    "siamese_model.save('siamesemodelv2.h5')"
   ]
  },
  {
   "cell_type": "code",
   "execution_count": 142,
   "id": "3a87ad68",
   "metadata": {},
   "outputs": [
    {
     "data": {
      "text/plain": [
       "__main__.L1Dist"
      ]
     },
     "execution_count": 142,
     "metadata": {},
     "output_type": "execute_result"
    }
   ],
   "source": [
    "L1Dist"
   ]
  },
  {
   "cell_type": "code",
   "execution_count": 143,
   "id": "ff6f6349",
   "metadata": {},
   "outputs": [
    {
     "name": "stdout",
     "output_type": "stream",
     "text": [
      "WARNING:tensorflow:No training configuration found in the save file, so the model was *not* compiled. Compile it manually.\n"
     ]
    }
   ],
   "source": [
    "# Reload model \n",
    "siamese_model = tf.keras.models.load_model('siamesemodelv2.h5',custom_objects={'L1Dist':L1Dist, 'BinaryCrossentropy':tf.losses.BinaryCrossentropy})"
   ]
  },
  {
   "cell_type": "code",
   "execution_count": 144,
   "id": "de16ca63",
   "metadata": {},
   "outputs": [
    {
     "name": "stdout",
     "output_type": "stream",
     "text": [
      "1/1 [==============================] - 0s 282ms/step\n"
     ]
    },
    {
     "data": {
      "text/plain": [
       "array([[9.9990487e-01],\n",
       "       [9.9999094e-01],\n",
       "       [6.3258341e-09],\n",
       "       [6.8514256e-09]], dtype=float32)"
      ]
     },
     "execution_count": 144,
     "metadata": {},
     "output_type": "execute_result"
    }
   ],
   "source": [
    "# Make predictions with reloaded model\n",
    "siamese_model.predict([test_input, test_val])"
   ]
  },
  {
   "cell_type": "code",
   "execution_count": 145,
   "id": "6d0e3486",
   "metadata": {},
   "outputs": [
    {
     "name": "stdout",
     "output_type": "stream",
     "text": [
      "Model: \"SiameseNetwork\"\n",
      "__________________________________________________________________________________________________\n",
      " Layer (type)                Output Shape                 Param #   Connected to                  \n",
      "==================================================================================================\n",
      " input_img (InputLayer)      [(None, 100, 100, 3)]        0         []                            \n",
      "                                                                                                  \n",
      " validation_img (InputLayer  [(None, 100, 100, 3)]        0         []                            \n",
      " )                                                                                                \n",
      "                                                                                                  \n",
      " embedding (Functional)      (None, 4096)                 3896044   ['input_img[0][0]',           \n",
      "                                                          8          'validation_img[0][0]']      \n",
      "                                                                                                  \n",
      " l1_dist_5 (L1Dist)          (None, 4096)                 0         ['embedding[0][0]',           \n",
      "                                                                     'embedding[1][0]']           \n",
      "                                                                                                  \n",
      " dense_6 (Dense)             (None, 1)                    4097      ['l1_dist_5[0][0]']           \n",
      "                                                                                                  \n",
      "==================================================================================================\n",
      "Total params: 38964545 (148.64 MB)\n",
      "Trainable params: 38964545 (148.64 MB)\n",
      "Non-trainable params: 0 (0.00 Byte)\n",
      "__________________________________________________________________________________________________\n"
     ]
    }
   ],
   "source": [
    "# View model summary\n",
    "siamese_model.summary()"
   ]
  },
  {
   "cell_type": "code",
   "execution_count": null,
   "id": "e15e5051",
   "metadata": {},
   "outputs": [],
   "source": []
  },
  {
   "cell_type": "markdown",
   "id": "2aa15417",
   "metadata": {},
   "source": [
    "# Real time test"
   ]
  },
  {
   "cell_type": "markdown",
   "id": "a05e047d",
   "metadata": {},
   "source": [
    "## verification funnction"
   ]
  },
  {
   "cell_type": "code",
   "execution_count": 150,
   "id": "fdb5d5fb",
   "metadata": {},
   "outputs": [
    {
     "data": {
      "text/plain": [
       "'application_data\\\\verification_images'"
      ]
     },
     "execution_count": 150,
     "metadata": {},
     "output_type": "execute_result"
    }
   ],
   "source": [
    "# application_data\\\\verification_images\n",
    "\"application_data\\\\verification_images\"\n"
   ]
  },
  {
   "cell_type": "code",
   "execution_count": 151,
   "id": "75aca523",
   "metadata": {},
   "outputs": [
    {
     "data": {
      "text/plain": [
       "['8ba528ad-2258-11ee-85ef-617b6042c71f.jpg',\n",
       " '8ba52976-2258-11ee-85ef-617b6042c71f.jpg',\n",
       " '8ba52942-2258-11ee-85ef-617b6042c71f.jpg',\n",
       " '8ba528f4-2258-11ee-85ef-617b6042c71f.jpg',\n",
       " '56a03de5-21fd-11ee-88e2-895a91a8a222.jpg',\n",
       " '5970caa3-21fd-11ee-88e2-895a91a8a222.jpg',\n",
       " '8ba52962-2258-11ee-85ef-617b6042c71f.jpg',\n",
       " '8ba528d0-2258-11ee-85ef-617b6042c71f.jpg',\n",
       " '8ba52977-2258-11ee-85ef-617b6042c71f.jpg',\n",
       " '56a03de6-21fd-11ee-88e2-895a91a8a222.jpg',\n",
       " '8ba52936-2258-11ee-85ef-617b6042c71f.jpg',\n",
       " '8ba52961-2258-11ee-85ef-617b6042c71f.jpg',\n",
       " '8ba528bb-2258-11ee-85ef-617b6042c71f.jpg',\n",
       " '8ba52956-2258-11ee-85ef-617b6042c71f.jpg',\n",
       " '8ba52960-2258-11ee-85ef-617b6042c71f.jpg',\n",
       " '8ba528e4-2258-11ee-85ef-617b6042c71f.jpg',\n",
       " '8ba52958-2258-11ee-85ef-617b6042c71f.jpg',\n",
       " '8ba52978-2258-11ee-85ef-617b6042c71f.jpg',\n",
       " '8ba52920-2258-11ee-85ef-617b6042c71f.jpg',\n",
       " '8ba52923-2258-11ee-85ef-617b6042c71f.jpg',\n",
       " '8ba52927-2258-11ee-85ef-617b6042c71f.jpg',\n",
       " '8ba52974-2258-11ee-85ef-617b6042c71f.jpg',\n",
       " '8ba528bc-2258-11ee-85ef-617b6042c71f.jpg',\n",
       " '8cd77889-2258-11ee-85ef-617b6042c71f.jpg',\n",
       " '5808831d-21fd-11ee-88e2-895a91a8a222.jpg',\n",
       " '5970caa4-21fd-11ee-88e2-895a91a8a222.jpg',\n",
       " '8ba528c0-2258-11ee-85ef-617b6042c71f.jpg',\n",
       " '8ba528ac-2258-11ee-85ef-617b6042c71f.jpg',\n",
       " '8ba52971-2258-11ee-85ef-617b6042c71f.jpg',\n",
       " '8ba52926-2258-11ee-85ef-617b6042c71f.jpg',\n",
       " '8ba528f6-2258-11ee-85ef-617b6042c71f.jpg',\n",
       " '8ba52941-2258-11ee-85ef-617b6042c71f.jpg',\n",
       " '8ba52922-2258-11ee-85ef-617b6042c71f.jpg',\n",
       " '8ba528ce-2258-11ee-85ef-617b6042c71f.jpg',\n",
       " '8ba52959-2258-11ee-85ef-617b6042c71f.jpg',\n",
       " '8ba528d2-2258-11ee-85ef-617b6042c71f.jpg',\n",
       " '8ba52979-2258-11ee-85ef-617b6042c71f.jpg',\n",
       " '8ba528e6-2258-11ee-85ef-617b6042c71f.jpg',\n",
       " '8ba52924-2258-11ee-85ef-617b6042c71f.jpg',\n",
       " '8ba52945-2258-11ee-85ef-617b6042c71f.jpg',\n",
       " '8ba528d1-2258-11ee-85ef-617b6042c71f.jpg',\n",
       " '8ba528e1-2258-11ee-85ef-617b6042c71f.jpg',\n",
       " '8ba528f7-2258-11ee-85ef-617b6042c71f.jpg',\n",
       " '8ba528f3-2258-11ee-85ef-617b6042c71f.jpg',\n",
       " '8ba52957-2258-11ee-85ef-617b6042c71f.jpg',\n",
       " '8ba52944-2258-11ee-85ef-617b6042c71f.jpg',\n",
       " '8ba528f5-2258-11ee-85ef-617b6042c71f.jpg',\n",
       " '8ba52973-2258-11ee-85ef-617b6042c71f.jpg',\n",
       " '8ba52928-2258-11ee-85ef-617b6042c71f.jpg',\n",
       " '8ba52943-2258-11ee-85ef-617b6042c71f.jpg',\n",
       " '8ba52925-2258-11ee-85ef-617b6042c71f.jpg',\n",
       " '8ba52939-2258-11ee-85ef-617b6042c71f.jpg',\n",
       " '8ba52940-2258-11ee-85ef-617b6042c71f.jpg',\n",
       " '8ba528ab-2258-11ee-85ef-617b6042c71f.jpg',\n",
       " '8ba52921-2258-11ee-85ef-617b6042c71f.jpg',\n",
       " '8ba528a9-2258-11ee-85ef-617b6042c71f.jpg',\n",
       " '5808831c-21fd-11ee-88e2-895a91a8a222.jpg',\n",
       " '8ba52955-2258-11ee-85ef-617b6042c71f.jpg',\n",
       " '8ba52970-2258-11ee-85ef-617b6042c71f.jpg',\n",
       " '8ba528f2-2258-11ee-85ef-617b6042c71f.jpg',\n",
       " '8ba528d3-2258-11ee-85ef-617b6042c71f.jpg',\n",
       " '8ba528bd-2258-11ee-85ef-617b6042c71f.jpg',\n",
       " '8ba52919-2258-11ee-85ef-617b6042c71f.jpg',\n",
       " '8ba52954-2258-11ee-85ef-617b6042c71f.jpg',\n",
       " '5970caa2-21fd-11ee-88e2-895a91a8a222.jpg',\n",
       " '8ba52937-2258-11ee-85ef-617b6042c71f.jpg',\n",
       " '56a03de4-21fd-11ee-88e2-895a91a8a222.jpg',\n",
       " '8ba528bf-2258-11ee-85ef-617b6042c71f.jpg',\n",
       " '8ba528e5-2258-11ee-85ef-617b6042c71f.jpg',\n",
       " '8ba528e2-2258-11ee-85ef-617b6042c71f.jpg',\n",
       " '8ba52975-2258-11ee-85ef-617b6042c71f.jpg',\n",
       " '8ba528be-2258-11ee-85ef-617b6042c71f.jpg',\n",
       " '8ba528e3-2258-11ee-85ef-617b6042c71f.jpg',\n",
       " '8ba528aa-2258-11ee-85ef-617b6042c71f.jpg',\n",
       " '8ba52972-2258-11ee-85ef-617b6042c71f.jpg',\n",
       " '8ba52953-2258-11ee-85ef-617b6042c71f.jpg',\n",
       " '8ba528a8-2258-11ee-85ef-617b6042c71f.jpg',\n",
       " '8ba528cf-2258-11ee-85ef-617b6042c71f.jpg',\n",
       " '8ba52938-2258-11ee-85ef-617b6042c71f.jpg',\n",
       " '8cd77888-2258-11ee-85ef-617b6042c71f.jpg']"
      ]
     },
     "execution_count": 151,
     "metadata": {},
     "output_type": "execute_result"
    }
   ],
   "source": [
    "os.listdir(os.path.join('application_data', 'verification_images'))"
   ]
  },
  {
   "cell_type": "code",
   "execution_count": 152,
   "id": "2ec439a8",
   "metadata": {},
   "outputs": [
    {
     "data": {
      "text/plain": [
       "'application_data/input_image/input_image.jpg'"
      ]
     },
     "execution_count": 152,
     "metadata": {},
     "output_type": "execute_result"
    }
   ],
   "source": [
    "os.path.join('application_data', 'input_image', 'input_image.jpg')"
   ]
  },
  {
   "cell_type": "code",
   "execution_count": 153,
   "id": "1656f752",
   "metadata": {},
   "outputs": [
    {
     "name": "stdout",
     "output_type": "stream",
     "text": [
      "application_data/verification_images/8ba528ad-2258-11ee-85ef-617b6042c71f.jpg\n",
      "application_data/verification_images/8ba52976-2258-11ee-85ef-617b6042c71f.jpg\n",
      "application_data/verification_images/8ba52942-2258-11ee-85ef-617b6042c71f.jpg\n",
      "application_data/verification_images/8ba528f4-2258-11ee-85ef-617b6042c71f.jpg\n",
      "application_data/verification_images/56a03de5-21fd-11ee-88e2-895a91a8a222.jpg\n",
      "application_data/verification_images/5970caa3-21fd-11ee-88e2-895a91a8a222.jpg\n",
      "application_data/verification_images/8ba52962-2258-11ee-85ef-617b6042c71f.jpg\n",
      "application_data/verification_images/8ba528d0-2258-11ee-85ef-617b6042c71f.jpg\n",
      "application_data/verification_images/8ba52977-2258-11ee-85ef-617b6042c71f.jpg\n",
      "application_data/verification_images/56a03de6-21fd-11ee-88e2-895a91a8a222.jpg\n",
      "application_data/verification_images/8ba52936-2258-11ee-85ef-617b6042c71f.jpg\n",
      "application_data/verification_images/8ba52961-2258-11ee-85ef-617b6042c71f.jpg\n",
      "application_data/verification_images/8ba528bb-2258-11ee-85ef-617b6042c71f.jpg\n",
      "application_data/verification_images/8ba52956-2258-11ee-85ef-617b6042c71f.jpg\n",
      "application_data/verification_images/8ba52960-2258-11ee-85ef-617b6042c71f.jpg\n",
      "application_data/verification_images/8ba528e4-2258-11ee-85ef-617b6042c71f.jpg\n",
      "application_data/verification_images/8ba52958-2258-11ee-85ef-617b6042c71f.jpg\n",
      "application_data/verification_images/8ba52978-2258-11ee-85ef-617b6042c71f.jpg\n",
      "application_data/verification_images/8ba52920-2258-11ee-85ef-617b6042c71f.jpg\n",
      "application_data/verification_images/8ba52923-2258-11ee-85ef-617b6042c71f.jpg\n",
      "application_data/verification_images/8ba52927-2258-11ee-85ef-617b6042c71f.jpg\n",
      "application_data/verification_images/8ba52974-2258-11ee-85ef-617b6042c71f.jpg\n",
      "application_data/verification_images/8ba528bc-2258-11ee-85ef-617b6042c71f.jpg\n",
      "application_data/verification_images/8cd77889-2258-11ee-85ef-617b6042c71f.jpg\n",
      "application_data/verification_images/5808831d-21fd-11ee-88e2-895a91a8a222.jpg\n",
      "application_data/verification_images/5970caa4-21fd-11ee-88e2-895a91a8a222.jpg\n",
      "application_data/verification_images/8ba528c0-2258-11ee-85ef-617b6042c71f.jpg\n",
      "application_data/verification_images/8ba528ac-2258-11ee-85ef-617b6042c71f.jpg\n",
      "application_data/verification_images/8ba52971-2258-11ee-85ef-617b6042c71f.jpg\n",
      "application_data/verification_images/8ba52926-2258-11ee-85ef-617b6042c71f.jpg\n",
      "application_data/verification_images/8ba528f6-2258-11ee-85ef-617b6042c71f.jpg\n",
      "application_data/verification_images/8ba52941-2258-11ee-85ef-617b6042c71f.jpg\n",
      "application_data/verification_images/8ba52922-2258-11ee-85ef-617b6042c71f.jpg\n",
      "application_data/verification_images/8ba528ce-2258-11ee-85ef-617b6042c71f.jpg\n",
      "application_data/verification_images/8ba52959-2258-11ee-85ef-617b6042c71f.jpg\n",
      "application_data/verification_images/8ba528d2-2258-11ee-85ef-617b6042c71f.jpg\n",
      "application_data/verification_images/8ba52979-2258-11ee-85ef-617b6042c71f.jpg\n",
      "application_data/verification_images/8ba528e6-2258-11ee-85ef-617b6042c71f.jpg\n",
      "application_data/verification_images/8ba52924-2258-11ee-85ef-617b6042c71f.jpg\n",
      "application_data/verification_images/8ba52945-2258-11ee-85ef-617b6042c71f.jpg\n",
      "application_data/verification_images/8ba528d1-2258-11ee-85ef-617b6042c71f.jpg\n",
      "application_data/verification_images/8ba528e1-2258-11ee-85ef-617b6042c71f.jpg\n",
      "application_data/verification_images/8ba528f7-2258-11ee-85ef-617b6042c71f.jpg\n",
      "application_data/verification_images/8ba528f3-2258-11ee-85ef-617b6042c71f.jpg\n",
      "application_data/verification_images/8ba52957-2258-11ee-85ef-617b6042c71f.jpg\n",
      "application_data/verification_images/8ba52944-2258-11ee-85ef-617b6042c71f.jpg\n",
      "application_data/verification_images/8ba528f5-2258-11ee-85ef-617b6042c71f.jpg\n",
      "application_data/verification_images/8ba52973-2258-11ee-85ef-617b6042c71f.jpg\n",
      "application_data/verification_images/8ba52928-2258-11ee-85ef-617b6042c71f.jpg\n",
      "application_data/verification_images/8ba52943-2258-11ee-85ef-617b6042c71f.jpg\n",
      "application_data/verification_images/8ba52925-2258-11ee-85ef-617b6042c71f.jpg\n",
      "application_data/verification_images/8ba52939-2258-11ee-85ef-617b6042c71f.jpg\n",
      "application_data/verification_images/8ba52940-2258-11ee-85ef-617b6042c71f.jpg\n",
      "application_data/verification_images/8ba528ab-2258-11ee-85ef-617b6042c71f.jpg\n",
      "application_data/verification_images/8ba52921-2258-11ee-85ef-617b6042c71f.jpg\n",
      "application_data/verification_images/8ba528a9-2258-11ee-85ef-617b6042c71f.jpg\n",
      "application_data/verification_images/5808831c-21fd-11ee-88e2-895a91a8a222.jpg\n",
      "application_data/verification_images/8ba52955-2258-11ee-85ef-617b6042c71f.jpg\n",
      "application_data/verification_images/8ba52970-2258-11ee-85ef-617b6042c71f.jpg\n",
      "application_data/verification_images/8ba528f2-2258-11ee-85ef-617b6042c71f.jpg\n",
      "application_data/verification_images/8ba528d3-2258-11ee-85ef-617b6042c71f.jpg\n",
      "application_data/verification_images/8ba528bd-2258-11ee-85ef-617b6042c71f.jpg\n",
      "application_data/verification_images/8ba52919-2258-11ee-85ef-617b6042c71f.jpg\n",
      "application_data/verification_images/8ba52954-2258-11ee-85ef-617b6042c71f.jpg\n",
      "application_data/verification_images/5970caa2-21fd-11ee-88e2-895a91a8a222.jpg\n",
      "application_data/verification_images/8ba52937-2258-11ee-85ef-617b6042c71f.jpg\n",
      "application_data/verification_images/56a03de4-21fd-11ee-88e2-895a91a8a222.jpg\n",
      "application_data/verification_images/8ba528bf-2258-11ee-85ef-617b6042c71f.jpg\n",
      "application_data/verification_images/8ba528e5-2258-11ee-85ef-617b6042c71f.jpg\n",
      "application_data/verification_images/8ba528e2-2258-11ee-85ef-617b6042c71f.jpg\n",
      "application_data/verification_images/8ba52975-2258-11ee-85ef-617b6042c71f.jpg\n",
      "application_data/verification_images/8ba528be-2258-11ee-85ef-617b6042c71f.jpg\n",
      "application_data/verification_images/8ba528e3-2258-11ee-85ef-617b6042c71f.jpg\n",
      "application_data/verification_images/8ba528aa-2258-11ee-85ef-617b6042c71f.jpg\n",
      "application_data/verification_images/8ba52972-2258-11ee-85ef-617b6042c71f.jpg\n",
      "application_data/verification_images/8ba52953-2258-11ee-85ef-617b6042c71f.jpg\n",
      "application_data/verification_images/8ba528a8-2258-11ee-85ef-617b6042c71f.jpg\n",
      "application_data/verification_images/8ba528cf-2258-11ee-85ef-617b6042c71f.jpg\n",
      "application_data/verification_images/8ba52938-2258-11ee-85ef-617b6042c71f.jpg\n",
      "application_data/verification_images/8cd77888-2258-11ee-85ef-617b6042c71f.jpg\n"
     ]
    }
   ],
   "source": [
    "for image in os.listdir(os.path.join('application_data', 'verification_images')):\n",
    "    validation_img = os.path.join('application_data', 'verification_images', image)\n",
    "    print(validation_img)"
   ]
  },
  {
   "cell_type": "code",
   "execution_count": 154,
   "id": "6778a000",
   "metadata": {},
   "outputs": [],
   "source": [
    "def verify(model, detection_threshold, verification_threshold):\n",
    "    # Build results array\n",
    "    results = []\n",
    "    for image in os.listdir(os.path.join('application_data', 'verification_images')):\n",
    "        input_img = preprocess(os.path.join('application_data', 'input_image', 'input_image.jpg'))\n",
    "        validation_img = preprocess(os.path.join('application_data', 'verification_images', image))\n",
    "        \n",
    "        # Make Predictions \n",
    "        result = model.predict(list(np.expand_dims([input_img, validation_img], axis=1)))\n",
    "        results.append(result)\n",
    "    \n",
    "    # Detection Threshold: Metric above which a prediciton is considered positive \n",
    "    detection = np.sum(np.array(results) > detection_threshold)\n",
    "    \n",
    "    # Verification Threshold: Proportion of positive predictions / total positive samples \n",
    "    verification = detection / len(os.listdir(os.path.join('application_data', 'verification_images'))) \n",
    "    verified = verification > verification_threshold\n",
    "    \n",
    "    return results, verified"
   ]
  },
  {
   "cell_type": "markdown",
   "id": "1080cc33",
   "metadata": {},
   "source": [
    "## OpenCV Real Time Verification"
   ]
  },
  {
   "cell_type": "code",
   "execution_count": 155,
   "id": "11cdff84",
   "metadata": {},
   "outputs": [
    {
     "name": "stdout",
     "output_type": "stream",
     "text": [
      "1/1 [==============================] - 0s 96ms/step\n",
      "1/1 [==============================] - 0s 113ms/step\n",
      "1/1 [==============================] - 0s 105ms/step\n",
      "1/1 [==============================] - 0s 130ms/step\n",
      "1/1 [==============================] - 0s 138ms/step\n",
      "1/1 [==============================] - 0s 131ms/step\n",
      "1/1 [==============================] - 0s 151ms/step\n",
      "1/1 [==============================] - 0s 98ms/step\n",
      "1/1 [==============================] - 0s 129ms/step\n",
      "1/1 [==============================] - 0s 132ms/step\n",
      "1/1 [==============================] - 0s 89ms/step\n",
      "1/1 [==============================] - 0s 100ms/step\n",
      "1/1 [==============================] - 0s 130ms/step\n",
      "1/1 [==============================] - 0s 95ms/step\n",
      "1/1 [==============================] - 0s 121ms/step\n",
      "1/1 [==============================] - 0s 137ms/step\n",
      "1/1 [==============================] - 0s 98ms/step\n",
      "1/1 [==============================] - 0s 101ms/step\n",
      "1/1 [==============================] - 0s 91ms/step\n",
      "1/1 [==============================] - 0s 115ms/step\n",
      "1/1 [==============================] - 0s 129ms/step\n",
      "1/1 [==============================] - 0s 104ms/step\n",
      "1/1 [==============================] - 0s 100ms/step\n",
      "1/1 [==============================] - 0s 106ms/step\n",
      "1/1 [==============================] - 0s 117ms/step\n",
      "1/1 [==============================] - 0s 107ms/step\n",
      "1/1 [==============================] - 0s 124ms/step\n",
      "1/1 [==============================] - 0s 135ms/step\n",
      "1/1 [==============================] - 0s 119ms/step\n",
      "1/1 [==============================] - 0s 128ms/step\n",
      "1/1 [==============================] - 0s 136ms/step\n",
      "1/1 [==============================] - 0s 127ms/step\n",
      "1/1 [==============================] - 0s 112ms/step\n",
      "1/1 [==============================] - 0s 126ms/step\n",
      "1/1 [==============================] - 0s 130ms/step\n",
      "1/1 [==============================] - 0s 93ms/step\n",
      "1/1 [==============================] - 0s 103ms/step\n",
      "1/1 [==============================] - 0s 121ms/step\n",
      "1/1 [==============================] - 0s 115ms/step\n",
      "1/1 [==============================] - 0s 109ms/step\n",
      "1/1 [==============================] - 0s 125ms/step\n",
      "1/1 [==============================] - 0s 115ms/step\n",
      "1/1 [==============================] - 0s 114ms/step\n",
      "1/1 [==============================] - 0s 121ms/step\n",
      "1/1 [==============================] - 0s 119ms/step\n",
      "1/1 [==============================] - 0s 130ms/step\n",
      "1/1 [==============================] - 0s 134ms/step\n",
      "1/1 [==============================] - 0s 142ms/step\n",
      "1/1 [==============================] - 0s 94ms/step\n",
      "1/1 [==============================] - 0s 110ms/step\n",
      "1/1 [==============================] - 0s 113ms/step\n",
      "1/1 [==============================] - 0s 96ms/step\n",
      "1/1 [==============================] - 0s 89ms/step\n",
      "1/1 [==============================] - 0s 138ms/step\n",
      "1/1 [==============================] - 0s 89ms/step\n",
      "1/1 [==============================] - 0s 99ms/step\n",
      "1/1 [==============================] - 0s 99ms/step\n",
      "1/1 [==============================] - 0s 96ms/step\n",
      "1/1 [==============================] - 0s 131ms/step\n",
      "1/1 [==============================] - 0s 110ms/step\n",
      "1/1 [==============================] - 0s 100ms/step\n",
      "1/1 [==============================] - 0s 96ms/step\n",
      "1/1 [==============================] - 0s 140ms/step\n",
      "1/1 [==============================] - 0s 102ms/step\n",
      "1/1 [==============================] - 0s 93ms/step\n",
      "1/1 [==============================] - 0s 117ms/step\n",
      "1/1 [==============================] - 0s 98ms/step\n",
      "1/1 [==============================] - 0s 88ms/step\n",
      "1/1 [==============================] - 0s 117ms/step\n",
      "1/1 [==============================] - 0s 137ms/step\n",
      "1/1 [==============================] - 0s 140ms/step\n",
      "1/1 [==============================] - 0s 139ms/step\n",
      "1/1 [==============================] - 0s 138ms/step\n",
      "1/1 [==============================] - 0s 96ms/step\n",
      "1/1 [==============================] - 0s 89ms/step\n",
      "1/1 [==============================] - 0s 120ms/step\n",
      "1/1 [==============================] - 0s 93ms/step\n",
      "1/1 [==============================] - 0s 132ms/step\n",
      "1/1 [==============================] - 0s 114ms/step\n",
      "1/1 [==============================] - 0s 121ms/step\n",
      "True\n"
     ]
    }
   ],
   "source": [
    "cap = cv2.VideoCapture(0)\n",
    "while cap.isOpened():\n",
    "    ret, frame = cap.read()\n",
    "    frame = frame[120:120+250,200:200+250, :]\n",
    "    \n",
    "    cv2.imshow('Verification', frame)\n",
    "    \n",
    "    # Verification trigger\n",
    "    if cv2.waitKey(10) & 0xFF == ord('v'):\n",
    "        cv2.imwrite(os.path.join('application_data', 'input_image', 'input_image.jpg'), frame)\n",
    "        # Run verification\n",
    "        results, verified = verify(siamese_model, 0.5, 0.5)\n",
    "        print(verified)\n",
    "    \n",
    "    if cv2.waitKey(10) & 0xFF == ord('q'):\n",
    "        break\n",
    "cap.release()\n",
    "cv2.destroyAllWindows()"
   ]
  },
  {
   "cell_type": "code",
   "execution_count": 156,
   "id": "851b4abf",
   "metadata": {},
   "outputs": [
    {
     "data": {
      "text/plain": [
       "30"
      ]
     },
     "execution_count": 156,
     "metadata": {},
     "output_type": "execute_result"
    }
   ],
   "source": [
    "np.sum(np.squeeze(results) > 0.9)"
   ]
  },
  {
   "cell_type": "code",
   "execution_count": 157,
   "id": "2e693a3a",
   "metadata": {},
   "outputs": [
    {
     "data": {
      "text/plain": [
       "[array([[0.8352929]], dtype=float32),\n",
       " array([[0.9136234]], dtype=float32),\n",
       " array([[0.90784734]], dtype=float32),\n",
       " array([[0.9971059]], dtype=float32),\n",
       " array([[0.9965375]], dtype=float32),\n",
       " array([[0.99994]], dtype=float32),\n",
       " array([[0.96542144]], dtype=float32),\n",
       " array([[0.7847376]], dtype=float32),\n",
       " array([[0.86326635]], dtype=float32),\n",
       " array([[0.99573725]], dtype=float32),\n",
       " array([[0.6786421]], dtype=float32),\n",
       " array([[0.9892578]], dtype=float32),\n",
       " array([[0.89885694]], dtype=float32),\n",
       " array([[0.66297287]], dtype=float32),\n",
       " array([[0.9967839]], dtype=float32),\n",
       " array([[0.7643511]], dtype=float32),\n",
       " array([[0.447215]], dtype=float32),\n",
       " array([[0.8043033]], dtype=float32),\n",
       " array([[0.74467325]], dtype=float32),\n",
       " array([[0.88808733]], dtype=float32),\n",
       " array([[0.92700946]], dtype=float32),\n",
       " array([[0.96585065]], dtype=float32),\n",
       " array([[0.90638965]], dtype=float32),\n",
       " array([[0.7392233]], dtype=float32),\n",
       " array([[0.9999671]], dtype=float32),\n",
       " array([[0.9999736]], dtype=float32),\n",
       " array([[0.8201038]], dtype=float32),\n",
       " array([[0.7732476]], dtype=float32),\n",
       " array([[0.9993958]], dtype=float32),\n",
       " array([[0.9294851]], dtype=float32),\n",
       " array([[0.97284335]], dtype=float32),\n",
       " array([[0.8824019]], dtype=float32),\n",
       " array([[0.8477456]], dtype=float32),\n",
       " array([[0.75700974]], dtype=float32),\n",
       " array([[0.6213516]], dtype=float32),\n",
       " array([[0.87566155]], dtype=float32),\n",
       " array([[0.635729]], dtype=float32),\n",
       " array([[0.84992117]], dtype=float32),\n",
       " array([[0.9096942]], dtype=float32),\n",
       " array([[0.5487101]], dtype=float32),\n",
       " array([[0.83463]], dtype=float32),\n",
       " array([[0.49065143]], dtype=float32),\n",
       " array([[0.93451184]], dtype=float32),\n",
       " array([[0.99940413]], dtype=float32),\n",
       " array([[0.41977954]], dtype=float32),\n",
       " array([[0.6782588]], dtype=float32),\n",
       " array([[0.9555992]], dtype=float32),\n",
       " array([[0.9818493]], dtype=float32),\n",
       " array([[0.9362011]], dtype=float32),\n",
       " array([[0.92221636]], dtype=float32),\n",
       " array([[0.9234727]], dtype=float32),\n",
       " array([[0.601418]], dtype=float32),\n",
       " array([[0.8511477]], dtype=float32),\n",
       " array([[0.6740207]], dtype=float32),\n",
       " array([[0.81586766]], dtype=float32),\n",
       " array([[0.8335812]], dtype=float32),\n",
       " array([[0.99997824]], dtype=float32),\n",
       " array([[0.89450985]], dtype=float32),\n",
       " array([[0.58664495]], dtype=float32),\n",
       " array([[0.8287713]], dtype=float32),\n",
       " array([[0.89326006]], dtype=float32),\n",
       " array([[0.5630812]], dtype=float32),\n",
       " array([[0.73239744]], dtype=float32),\n",
       " array([[0.89243615]], dtype=float32),\n",
       " array([[0.99991626]], dtype=float32),\n",
       " array([[0.5874048]], dtype=float32),\n",
       " array([[0.9956225]], dtype=float32),\n",
       " array([[0.7722232]], dtype=float32),\n",
       " array([[0.8315809]], dtype=float32),\n",
       " array([[0.61506104]], dtype=float32),\n",
       " array([[0.9345662]], dtype=float32),\n",
       " array([[0.83071256]], dtype=float32),\n",
       " array([[0.6874418]], dtype=float32),\n",
       " array([[0.8657837]], dtype=float32),\n",
       " array([[0.9961982]], dtype=float32),\n",
       " array([[0.851175]], dtype=float32),\n",
       " array([[0.76423323]], dtype=float32),\n",
       " array([[0.30985048]], dtype=float32),\n",
       " array([[0.53012216]], dtype=float32),\n",
       " array([[0.68404144]], dtype=float32)]"
      ]
     },
     "execution_count": 157,
     "metadata": {},
     "output_type": "execute_result"
    }
   ],
   "source": [
    "results"
   ]
  },
  {
   "cell_type": "code",
   "execution_count": null,
   "id": "e1189699",
   "metadata": {},
   "outputs": [],
   "source": []
  },
  {
   "cell_type": "code",
   "execution_count": null,
   "id": "1d8912ea",
   "metadata": {},
   "outputs": [],
   "source": []
  },
  {
   "cell_type": "code",
   "execution_count": null,
   "id": "694af7c6",
   "metadata": {},
   "outputs": [],
   "source": []
  },
  {
   "cell_type": "code",
   "execution_count": null,
   "id": "8bf730bb",
   "metadata": {},
   "outputs": [],
   "source": []
  }
 ],
 "metadata": {
  "kernelspec": {
   "display_name": "Python 3 (ipykernel)",
   "language": "python",
   "name": "python3"
  },
  "language_info": {
   "codemirror_mode": {
    "name": "ipython",
    "version": 3
   },
   "file_extension": ".py",
   "mimetype": "text/x-python",
   "name": "python",
   "nbconvert_exporter": "python",
   "pygments_lexer": "ipython3",
   "version": "3.10.6"
  }
 },
 "nbformat": 4,
 "nbformat_minor": 5
}
